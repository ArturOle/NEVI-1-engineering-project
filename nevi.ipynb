{
 "cells": [
  {
   "cell_type": "markdown",
   "metadata": {},
   "source": [
    "# NEVI\n",
    "\n",
    "The NEVI project aims to rise the bar for skin cancer recognition using image processing and deep convolutional neural networks with transfer learning."
   ]
  },
  {
   "cell_type": "code",
   "execution_count": 12,
   "metadata": {},
   "outputs": [],
   "source": [
    "from keras.preprocessing.image import ImageDataGenerator\n",
    "from keras.applications.efficientnet_v2 import EfficientNetV2S, preprocess_input\n",
    "from keras.layers import Dense, Dropout\n",
    "from keras.models import Sequential\n",
    "from keras.layers import ThresholdedReLU\n",
    "from keras.models import load_model\n",
    "from sklearn.model_selection import train_test_split\n",
    "from keras.callbacks import EarlyStopping\n",
    "\n",
    "import pandas as pd\n",
    "import numpy as np\n",
    "import matplotlib.pyplot as plt\n",
    "import glob\n",
    "import PIL\n"
   ]
  },
  {
   "cell_type": "markdown",
   "metadata": {},
   "source": [
    "By Type"
   ]
  },
  {
   "cell_type": "code",
   "execution_count": 2,
   "metadata": {},
   "outputs": [],
   "source": [
    "TYPE_DATA_FOLDER_PATH  = \"grouped_images_by_type\"\n",
    "AKIEC_DATA_FOLDER_PATH = \"grouped_images_by_type\\\\akiec\\\\*\"\n",
    "BCC_DATA_FOLDER_PATH   = \"grouped_images_by_type\\\\bcc\\\\*\"\n",
    "BKL_DATA_FOLDER_PATH   = \"grouped_images_by_type\\\\bkl\\\\*\"\n",
    "DF_DATA_FOLDER_PATH    = \"grouped_images_by_type\\\\df\\\\*\"\n",
    "MEL_DATA_FOLDER_PATH   = \"grouped_images_by_type\\\\mel\\\\*\"\n",
    "NV_DATA_FOLDER_PATH    = \"grouped_images_by_type\\\\nv\\\\*\"\n",
    "VASC_DATA_FOLDER_PATH  = \"grouped_images_by_type\\\\vasc\\\\*\"\n",
    "AKIEC_DATA_FOLDER_PATH_TEST = \"secret_test_folder\\\\akiec\\\\*\"\n",
    "BCC_DATA_FOLDER_PATH_TEST   = \"secret_test_folder\\\\bcc\\\\*\"\n",
    "BKL_DATA_FOLDER_PATH_TEST   = \"secret_test_folder\\\\bkl\\\\*\"\n",
    "DF_DATA_FOLDER_PATH_TEST    = \"secret_test_folder\\\\df\\\\*\"\n",
    "MEL_DATA_FOLDER_PATH_TEST   = \"secret_test_folder\\\\mel\\\\*\"\n",
    "NV_DATA_FOLDER_PATH_TEST    = \"secret_test_folder\\\\nv\\\\*\"\n",
    "VASC_DATA_FOLDER_PATH_TEST  = \"secret_test_folder\\\\vasc\\\\*\"\n",
    "TARGET_SIZE = (256, 256)\n",
    "INPUT_SHAPE = (256, 256, 3)\n",
    "BATCH_SIZE = 20"
   ]
  },
  {
   "cell_type": "code",
   "execution_count": 3,
   "metadata": {},
   "outputs": [],
   "source": [
    "imgs_AKIEC  = glob.glob(AKIEC_DATA_FOLDER_PATH)\n",
    "imgs_BCC    = glob.glob(BCC_DATA_FOLDER_PATH)\n",
    "imgs_BKL    = glob.glob(BKL_DATA_FOLDER_PATH)\n",
    "imgs_DF     = glob.glob(DF_DATA_FOLDER_PATH)\n",
    "imgs_MEL    = glob.glob(MEL_DATA_FOLDER_PATH)\n",
    "imgs_NV     = glob.glob(NV_DATA_FOLDER_PATH)\n",
    "imgs_VASC   = glob.glob(VASC_DATA_FOLDER_PATH)\n",
    "\n",
    "test_imgs_AKIEC  = glob.glob(AKIEC_DATA_FOLDER_PATH_TEST)\n",
    "test_imgs_BCC    = glob.glob(BCC_DATA_FOLDER_PATH_TEST)\n",
    "test_imgs_BKL    = glob.glob(BKL_DATA_FOLDER_PATH_TEST)\n",
    "test_imgs_DF     = glob.glob(DF_DATA_FOLDER_PATH_TEST)\n",
    "test_imgs_MEL    = glob.glob(MEL_DATA_FOLDER_PATH_TEST)\n",
    "test_imgs_NV     = glob.glob(NV_DATA_FOLDER_PATH_TEST)\n",
    "test_imgs_VASC   = glob.glob(VASC_DATA_FOLDER_PATH_TEST)\n",
    "\n",
    "df_AKIEC = pd.DataFrame({'filename': imgs_AKIEC})\n",
    "df_AKIEC['class'] = 'AKIEC'\n",
    "df_BCC = pd.DataFrame({'filename': imgs_BCC})\n",
    "df_BCC['class'] = 'BCC'\n",
    "df_BKL = pd.DataFrame({'filename': imgs_BKL})\n",
    "df_BKL['class'] = 'BKL'\n",
    "df_DF = pd.DataFrame({'filename': imgs_DF})\n",
    "df_DF['class'] = 'DF'\n",
    "df_MEL = pd.DataFrame({'filename': imgs_MEL})\n",
    "df_MEL['class'] = 'MEL'\n",
    "df_NV = pd.DataFrame({'filename': imgs_NV})\n",
    "df_NV['class'] = 'NV'\n",
    "df_VASC = pd.DataFrame({'filename': imgs_VASC})\n",
    "df_VASC['class'] = 'VASC'\n",
    "\n",
    "df_test_AKIEC = pd.DataFrame({'filename': test_imgs_AKIEC})\n",
    "df_test_AKIEC['class'] = 'AKIEC'\n",
    "df_test_BCC = pd.DataFrame({'filename': test_imgs_BCC})\n",
    "df_test_BCC['class'] = 'BCC'\n",
    "df_test_BKL = pd.DataFrame({'filename': test_imgs_BKL})\n",
    "df_test_BKL['class'] = 'BKL'\n",
    "df_test_DF = pd.DataFrame({'filename': test_imgs_DF})\n",
    "df_test_DF['class'] = 'DF'\n",
    "df_test_MEL = pd.DataFrame({'filename': test_imgs_MEL})\n",
    "df_test_MEL['class'] = 'MEL'\n",
    "df_test_NV = pd.DataFrame({'filename': test_imgs_NV})\n",
    "df_test_NV['class'] = 'NV'\n",
    "df_test_VASC = pd.DataFrame({'filename': test_imgs_VASC})\n",
    "df_test_VASC['class'] = 'VASC'\n",
    "\n",
    "AKIEC = 'AKIEC'\n",
    "BCC = 'BCC'\n",
    "BKL = 'BKL'\n",
    "DF = 'DF'\n",
    "MEL = 'MEL'\n",
    "NV= 'NV'\n",
    "VASC = 'VASC'\n",
    "\n",
    "df_test = pd.concat([df_test_AKIEC, df_test_BCC, df_test_BKL, df_test_DF, df_test_MEL, df_test_NV, df_test_VASC])\n",
    "df_temp = pd.concat([df_AKIEC, df_BCC, df_BKL, df_DF, df_MEL, df_NV, df_VASC])\n",
    "df, df_val = train_test_split(df_temp, stratify=df_temp[\"class\"], test_size=.05)"
   ]
  },
  {
   "cell_type": "code",
   "execution_count": 4,
   "metadata": {},
   "outputs": [
    {
     "name": "stdout",
     "output_type": "stream",
     "text": [
      "Found 19329 images belonging to 7 classes.\n"
     ]
    }
   ],
   "source": [
    "\n",
    "\n",
    "data_generator_vis = ImageDataGenerator()\n",
    "flow_vis = data_generator_vis.flow_from_directory(\n",
    "    TYPE_DATA_FOLDER_PATH,\n",
    "    shuffle=False\n",
    ")"
   ]
  },
  {
   "cell_type": "code",
   "execution_count": 5,
   "metadata": {},
   "outputs": [],
   "source": [
    "data_generator_train = ImageDataGenerator(\n",
    "    preprocessing_function=preprocess_input,\n",
    "    horizontal_flip=True,\n",
    "    vertical_flip=True,\n",
    "    rotation_range=90,\n",
    "    shear_range=.1,\n",
    "    brightness_range=[0.6,1.0]\n",
    ")\n",
    "\n",
    "data_generator_val = ImageDataGenerator(\n",
    "    preprocessing_function=preprocess_input\n",
    ")\n",
    "\n",
    "data_generator_test = ImageDataGenerator(\n",
    "    preprocessing_function=preprocess_input\n",
    ")"
   ]
  },
  {
   "cell_type": "code",
   "execution_count": 6,
   "metadata": {},
   "outputs": [
    {
     "name": "stdout",
     "output_type": "stream",
     "text": [
      "Found 18362 validated image filenames belonging to 7 classes.\n",
      "Found 967 validated image filenames belonging to 7 classes.\n",
      "Found 391 validated image filenames belonging to 7 classes.\n"
     ]
    }
   ],
   "source": [
    "flow_train = data_generator_train.flow_from_dataframe(\n",
    "    df,\n",
    "    target_size=TARGET_SIZE,\n",
    "    batch_size=BATCH_SIZE,\n",
    "    shuffle=True\n",
    ")\n",
    "\n",
    "flow_val = data_generator_val.flow_from_dataframe(\n",
    "    df_val,\n",
    "    target_size=TARGET_SIZE,\n",
    "    batch_size=BATCH_SIZE,\n",
    "    shuffle=True\n",
    "    \n",
    ")\n",
    "\n",
    "flow_test = data_generator_test.flow_from_dataframe(\n",
    "    df_test,\n",
    "    target_size=TARGET_SIZE,\n",
    "    batch_size=BATCH_SIZE,\n",
    "    shuffle=False\n",
    ")"
   ]
  },
  {
   "cell_type": "code",
   "execution_count": 7,
   "metadata": {},
   "outputs": [],
   "source": [
    "CLASS_MAP = {class_number: class_name.split('.')[0] for class_name, class_number in flow_vis.class_indices.items()}"
   ]
  },
  {
   "cell_type": "code",
   "execution_count": 8,
   "metadata": {},
   "outputs": [],
   "source": [
    "EfficientNet = EfficientNetV2S(\n",
    "    include_top=False,\n",
    "    weights='imagenet',\n",
    "    input_shape=INPUT_SHAPE,\n",
    "    pooling='max'\n",
    ")"
   ]
  },
  {
   "cell_type": "code",
   "execution_count": 9,
   "metadata": {},
   "outputs": [],
   "source": [
    "def get_model(base_model, activation=\"softmax\", optimizer: str=\"adam\", loss_function: str=\"CategoricalCrossentropy\"):\n",
    "    model = Sequential([\n",
    "        base_model,\n",
    "        Dropout(.2),\n",
    "        Dense(7, activation=activation)\n",
    "    ])\n",
    "    \n",
    "    for layer in model.layers[:-1]:\n",
    "        layer.trainable=True\n",
    "        \n",
    "    model.compile(\n",
    "        optimizer,\n",
    "        loss_function,\n",
    "        metrics=[\n",
    "            \"accuracy\"\n",
    "        ]\n",
    "    )\n",
    "    \n",
    "    return model"
   ]
  },
  {
   "cell_type": "code",
   "execution_count": 13,
   "metadata": {},
   "outputs": [],
   "source": [
    "model_eff = get_model(EfficientNet)\n",
    "callback = EarlyStopping(monitor='loss', patience=3)"
   ]
  },
  {
   "cell_type": "code",
   "execution_count": 21,
   "metadata": {},
   "outputs": [
    {
     "ename": "OSError",
     "evalue": "No file or directory found at model\\experimental_model_S7",
     "output_type": "error",
     "traceback": [
      "\u001b[1;31m---------------------------------------------------------------------------\u001b[0m",
      "\u001b[1;31mOSError\u001b[0m                                   Traceback (most recent call last)",
      "\u001b[1;32md:\\Projects\\thesis\\nevi.ipynb Cell 13\u001b[0m in \u001b[0;36m<cell line: 1>\u001b[1;34m()\u001b[0m\n\u001b[1;32m----> <a href='vscode-notebook-cell:/d%3A/Projects/thesis/nevi.ipynb#X15sZmlsZQ%3D%3D?line=0'>1</a>\u001b[0m model_eff \u001b[39m=\u001b[39m load_model(\u001b[39m\"\u001b[39;49m\u001b[39mmodel\u001b[39;49m\u001b[39m\\\u001b[39;49m\u001b[39mexperimental_model_S7\u001b[39;49m\u001b[39m\"\u001b[39;49m)\n",
      "File \u001b[1;32md:\\Programming\\Pythons\\lib\\site-packages\\keras\\utils\\traceback_utils.py:70\u001b[0m, in \u001b[0;36mfilter_traceback.<locals>.error_handler\u001b[1;34m(*args, **kwargs)\u001b[0m\n\u001b[0;32m     67\u001b[0m     filtered_tb \u001b[39m=\u001b[39m _process_traceback_frames(e\u001b[39m.\u001b[39m__traceback__)\n\u001b[0;32m     68\u001b[0m     \u001b[39m# To get the full stack trace, call:\u001b[39;00m\n\u001b[0;32m     69\u001b[0m     \u001b[39m# `tf.debugging.disable_traceback_filtering()`\u001b[39;00m\n\u001b[1;32m---> 70\u001b[0m     \u001b[39mraise\u001b[39;00m e\u001b[39m.\u001b[39mwith_traceback(filtered_tb) \u001b[39mfrom\u001b[39;00m \u001b[39mNone\u001b[39m\n\u001b[0;32m     71\u001b[0m \u001b[39mfinally\u001b[39;00m:\n\u001b[0;32m     72\u001b[0m     \u001b[39mdel\u001b[39;00m filtered_tb\n",
      "File \u001b[1;32md:\\Programming\\Pythons\\lib\\site-packages\\keras\\saving\\save.py:226\u001b[0m, in \u001b[0;36mload_model\u001b[1;34m(filepath, custom_objects, compile, options)\u001b[0m\n\u001b[0;32m    224\u001b[0m \u001b[39mif\u001b[39;00m \u001b[39misinstance\u001b[39m(filepath_str, \u001b[39mstr\u001b[39m):\n\u001b[0;32m    225\u001b[0m     \u001b[39mif\u001b[39;00m \u001b[39mnot\u001b[39;00m tf\u001b[39m.\u001b[39mio\u001b[39m.\u001b[39mgfile\u001b[39m.\u001b[39mexists(filepath_str):\n\u001b[1;32m--> 226\u001b[0m         \u001b[39mraise\u001b[39;00m \u001b[39mIOError\u001b[39;00m(\n\u001b[0;32m    227\u001b[0m             \u001b[39mf\u001b[39m\u001b[39m\"\u001b[39m\u001b[39mNo file or directory found at \u001b[39m\u001b[39m{\u001b[39;00mfilepath_str\u001b[39m}\u001b[39;00m\u001b[39m\"\u001b[39m\n\u001b[0;32m    228\u001b[0m         )\n\u001b[0;32m    230\u001b[0m     \u001b[39mif\u001b[39;00m tf\u001b[39m.\u001b[39mio\u001b[39m.\u001b[39mgfile\u001b[39m.\u001b[39misdir(filepath_str):\n\u001b[0;32m    231\u001b[0m         \u001b[39mreturn\u001b[39;00m saved_model_load\u001b[39m.\u001b[39mload(\n\u001b[0;32m    232\u001b[0m             filepath_str, \u001b[39mcompile\u001b[39m, options\n\u001b[0;32m    233\u001b[0m         )\n",
      "\u001b[1;31mOSError\u001b[0m: No file or directory found at model\\experimental_model_S7"
     ]
    }
   ],
   "source": [
    "model_eff = load_model(\"model\\experimental_model_S7\")"
   ]
  },
  {
   "cell_type": "code",
   "execution_count": 22,
   "metadata": {},
   "outputs": [
    {
     "name": "stdout",
     "output_type": "stream",
     "text": [
      "Epoch 1/60\n",
      "919/919 [==============================] - 284s 309ms/step - loss: 0.1218 - accuracy: 0.9572 - val_loss: 0.3329 - val_accuracy: 0.8997\n",
      "Epoch 2/60\n",
      "919/919 [==============================] - 244s 265ms/step - loss: 0.1079 - accuracy: 0.9612 - val_loss: 0.3588 - val_accuracy: 0.8904\n",
      "Epoch 3/60\n",
      "919/919 [==============================] - 254s 277ms/step - loss: 0.1170 - accuracy: 0.9592 - val_loss: 0.3667 - val_accuracy: 0.8852\n",
      "Epoch 4/60\n",
      "919/919 [==============================] - 255s 278ms/step - loss: 0.1042 - accuracy: 0.9624 - val_loss: 0.3390 - val_accuracy: 0.8873\n",
      "Epoch 5/60\n",
      "919/919 [==============================] - 251s 272ms/step - loss: 0.1012 - accuracy: 0.9632 - val_loss: 0.3838 - val_accuracy: 0.8873\n",
      "Epoch 6/60\n",
      "919/919 [==============================] - 255s 278ms/step - loss: 0.1078 - accuracy: 0.9612 - val_loss: 0.3729 - val_accuracy: 0.8914\n",
      "Epoch 7/60\n",
      "919/919 [==============================] - 265s 288ms/step - loss: 0.0983 - accuracy: 0.9653 - val_loss: 0.3327 - val_accuracy: 0.8966\n",
      "Epoch 8/60\n",
      "919/919 [==============================] - 267s 290ms/step - loss: 0.1122 - accuracy: 0.9605 - val_loss: 0.4161 - val_accuracy: 0.8780\n",
      "Epoch 9/60\n",
      "919/919 [==============================] - 256s 278ms/step - loss: 0.0993 - accuracy: 0.9644 - val_loss: 0.4852 - val_accuracy: 0.8821\n",
      "Epoch 10/60\n",
      "919/919 [==============================] - 257s 279ms/step - loss: 0.0891 - accuracy: 0.9677 - val_loss: 0.4877 - val_accuracy: 0.8728\n",
      "Epoch 11/60\n",
      "919/919 [==============================] - 260s 282ms/step - loss: 0.0867 - accuracy: 0.9673 - val_loss: 0.3932 - val_accuracy: 0.8914\n",
      "Epoch 12/60\n",
      "919/919 [==============================] - 258s 280ms/step - loss: 0.0933 - accuracy: 0.9691 - val_loss: 0.3980 - val_accuracy: 0.8811\n",
      "Epoch 13/60\n",
      "919/919 [==============================] - 249s 270ms/step - loss: 0.0842 - accuracy: 0.9705 - val_loss: 0.3575 - val_accuracy: 0.8976\n",
      "Epoch 14/60\n",
      "919/919 [==============================] - ETA: 0s - loss: 0.0927 - accuracy: 0.9667"
     ]
    }
   ],
   "source": [
    "history_eff = model_eff.fit(\n",
    "    flow_train,\n",
    "    validation_data=flow_val,\n",
    "    epochs=60,\n",
    "    callbacks=[callback]\n",
    ")"
   ]
  },
  {
   "cell_type": "code",
   "execution_count": 16,
   "metadata": {},
   "outputs": [],
   "source": [
    "from keras import Model\n",
    "Model.save(\n",
    "    model_eff,\n",
    "    filepath=\".\\\\model\\\\experimental_model_S10.h5\",\n",
    "    overwrite=True,\n",
    "    include_optimizer=True,\n",
    "    save_format=None,\n",
    "    signatures=None,\n",
    "    options=None,\n",
    "    save_traces=True,\n",
    ")"
   ]
  },
  {
   "cell_type": "code",
   "execution_count": 17,
   "metadata": {},
   "outputs": [
    {
     "name": "stdout",
     "output_type": "stream",
     "text": [
      "20/20 [==============================] - 3s 129ms/step - loss: 0.5047 - accuracy: 0.8696\n"
     ]
    }
   ],
   "source": [
    "_, resnet_accuracy = model_eff.evaluate(flow_test)"
   ]
  },
  {
   "cell_type": "code",
   "execution_count": 18,
   "metadata": {},
   "outputs": [
    {
     "data": {
      "image/png": "[encoded data removed]",
      "text/plain": [
       "<Figure size 800x500 with 1 Axes>"
      ]
     },
     "metadata": {},
     "output_type": "display_data"
    },
    {
     "data": {
      "image/png": "[encoded data removed]",
      "text/plain": [
       "<Figure size 800x500 with 1 Axes>"
      ]
     },
     "metadata": {},
     "output_type": "display_data"
    }
   ],
   "source": [
    "import matplotlib.pyplot as plt\n",
    "\n",
    "plt.figure(figsize=(8, 5))\n",
    "plt.plot(history_eff.history[\"accuracy\"])\n",
    "plt.plot(history_eff.history[\"val_accuracy\"])\n",
    "plt.ylabel('accuracy')\n",
    "plt.xlabel('epoch')\n",
    "plt.show()\n",
    "\n",
    "plt.figure(figsize=(8, 5))\n",
    "plt.plot(history_eff.history[\"loss\"])\n",
    "plt.plot(history_eff.history[\"val_loss\"])\n",
    "plt.ylabel('loss')\n",
    "plt.xlabel('epoch')\n",
    "plt.show()\n"
   ]
  },
  {
   "cell_type": "code",
   "execution_count": 19,
   "metadata": {},
   "outputs": [
    {
     "name": "stdout",
     "output_type": "stream",
     "text": [
      "20/20 [==============================] - 5s 74ms/step\n"
     ]
    },
    {
     "data": {
      "image/png": "[encoded data removed]",
      "text/plain": [
       "<Figure size 640x480 with 2 Axes>"
      ]
     },
     "metadata": {},
     "output_type": "display_data"
    }
   ],
   "source": [
    "from sklearn.metrics import confusion_matrix, ConfusionMatrixDisplay\n",
    "ava_labels = [AKIEC, BCC, BKL, DF, MEL, NV, VASC]\n",
    "true_labels = flow_test.classes\n",
    "predictions = model_eff.predict(flow_test)\n",
    "y_true = true_labels\n",
    "y_pred = np.array([np.argmax(x) for x in predictions])\n",
    "cm = confusion_matrix(y_true, y_pred)\n",
    "disp = ConfusionMatrixDisplay(cm, display_labels=ava_labels)\n",
    "disp.plot(cmap=plt.cm.Reds)\n",
    "plt.show()"
   ]
  },
  {
   "cell_type": "code",
   "execution_count": 57,
   "metadata": {},
   "outputs": [],
   "source": [
    "from skimage import transform\n",
    "from PIL import Image\n",
    "import cv2\n",
    "\n",
    "class Predictor:\n",
    "    def __init__(self, model_path: str):\n",
    "        self.model = load_model(model_path)\n",
    "\n",
    "    def predict(self, image):\n",
    "        np_image = np.array(image).astype(float)\n",
    "        np_image = transform.resize(np_image, (256, 256, 3))\n",
    "        np_image = np.expand_dims(np_image, axis=0)\n",
    "        np_image = preprocess_input(np_image)\n",
    "        result = self.model.predict(np_image)[0]\n",
    "        print(result)\n",
    "        return self.map_results(result)\n",
    "\n",
    "    def map_results(self, results: list):\n",
    "        map_results = {\n",
    "            0: \"Actinic keratoses and intraepithelial carcinoma / Bowen's diesease\",\n",
    "            1: \"You die bro\",\n",
    "            2: \"Benign keratosis-like lesions\",\n",
    "            3: \"Dermatofibroma\",\n",
    "            4: \"Melanoma\",\n",
    "            5: \"Melanocytic nevi\",\n",
    "            6: \"Vascular lesions\"\n",
    "        }\n",
    "        return map_results[np.argmax(results)]\n",
    "\n",
    "\n",
    "if __name__ == \"__main__\":\n",
    "    # with open(r\"D:\\Projects\\thesis\\grouped_images_by_severity\\benign\\ISIC_0024306.jpg\", \"r\") as f:\n",
    "    img = Image.open(r\"D:\\Projects\\thesis\\grouped_images_by_type\\nv\\ISIC_0034098.jpg\")\n",
    "    pred = Predictor(r\"D:\\Projects\\thesis\\model\\experimental_model_S8\")\n",
    "    pred = pred.predict(img)\n",
    "    print(pred)\n"
   ]
  },
  {
   "cell_type": "code",
   "execution_count": null,
   "metadata": {},
   "outputs": [],
   "source": [
    "custom_model = 0"
   ]
  },
  {
   "cell_type": "markdown",
   "metadata": {},
   "source": [
    "By Severity"
   ]
  },
  {
   "cell_type": "code",
   "execution_count": null,
   "metadata": {},
   "outputs": [],
   "source": [
    "SEVERITY_DATA_FOLDER_PATH = \"grouped_images_by_severity\"\n",
    "BENIGN_DATA_FOLDER_PATH = \"grouped_images_by_severity\\\\benign\\\\*\"\n",
    "MALIGNANT_DATA_FOLDER_PATH = \"grouped_images_by_severity\\\\malignant\\\\*\"\n",
    "TARGET_SIZE = (256, 256)\n",
    "INPUT_SHAPE = (256, 256, 3)\n",
    "BATCH_SIZE = 20"
   ]
  },
  {
   "cell_type": "code",
   "execution_count": null,
   "metadata": {},
   "outputs": [],
   "source": [
    "imgs_benign = glob.glob(BENIGN_DATA_FOLDER_PATH)\n",
    "imgs_malignant = glob.glob(MALIGNANT_DATA_FOLDER_PATH)\n",
    "\n",
    "df_benign = pd.DataFrame({'filename': imgs_benign})\n",
    "df_benign['class'] = 'benign'\n",
    "df_malignant = pd.DataFrame({'filename': imgs_malignant})\n",
    "df_malignant['class'] = 'melignant'\n",
    "\n",
    "df = pd.concat([df_benign, df_malignant])\n",
    "\n",
    "df_train, df_temp = train_test_split(df, stratify=df['class'], test_size=.1)\n",
    "df_val, df_test = train_test_split(df_temp, stratify=df_temp['class'], test_size=.5)\n"
   ]
  },
  {
   "cell_type": "code",
   "execution_count": null,
   "metadata": {},
   "outputs": [],
   "source": [
    "\n",
    "data_generator_vis = ImageDataGenerator()\n",
    "flow_vis = data_generator_vis.flow_from_directory(\n",
    "    SEVERITY_DATA_FOLDER_PATH,\n",
    "    shuffle=True\n",
    ")"
   ]
  },
  {
   "cell_type": "code",
   "execution_count": null,
   "metadata": {},
   "outputs": [],
   "source": [
    "data_generator_train = ImageDataGenerator(\n",
    "    preprocessing_function=preprocess_input,\n",
    "    horizontal_flip=True,\n",
    "    vertical_flip=True,\n",
    "    rotation_range=90,\n",
    "    shear_range=.1,\n",
    "    brightness_range=[0.6, 1.0]\n",
    ")\n",
    "\n",
    "data_generator_val = ImageDataGenerator(\n",
    "    preprocessing_function=preprocess_input\n",
    ")\n",
    "\n",
    "data_generator_test = ImageDataGenerator(\n",
    "    preprocessing_function=preprocess_input\n",
    ")\n"
   ]
  },
  {
   "cell_type": "code",
   "execution_count": null,
   "metadata": {},
   "outputs": [],
   "source": [
    "flow_train = data_generator_train.flow_from_dataframe(\n",
    "    df_train,\n",
    "    target_size=TARGET_SIZE,\n",
    "    batch_size=BATCH_SIZE,\n",
    "    shuffle=True\n",
    ")\n",
    "\n",
    "flow_val = data_generator_val.flow_from_dataframe(\n",
    "    df_val,\n",
    "    target_size=TARGET_SIZE,\n",
    "    batch_size=BATCH_SIZE,\n",
    "    shuffle=True\n",
    "    \n",
    ")\n",
    "\n",
    "flow_test = data_generator_test.flow_from_dataframe(\n",
    "    df_test,\n",
    "    target_size=TARGET_SIZE,\n",
    "    batch_size=BATCH_SIZE,\n",
    "    shuffle=True\n",
    ")\n",
    "\n"
   ]
  },
  {
   "cell_type": "code",
   "execution_count": null,
   "metadata": {},
   "outputs": [],
   "source": [
    "CLASS_MAP = {class_number: class_name.split('.')[0] for class_name, class_number in flow_vis.class_indices.items()}"
   ]
  },
  {
   "cell_type": "code",
   "execution_count": null,
   "metadata": {},
   "outputs": [],
   "source": [
    "EfficientNet = EfficientNetV2S(\n",
    "    include_top=False,\n",
    "    weights='imagenet',\n",
    "    input_shape=INPUT_SHAPE,\n",
    "    pooling='max'\n",
    ")"
   ]
  },
  {
   "cell_type": "code",
   "execution_count": null,
   "metadata": {},
   "outputs": [],
   "source": [
    "def get_model(base_model, activation=\"softmax\", optimizer: str=\"adam\", loss_function: str=\"CategoricalCrossentropy\"):\n",
    "    model = Sequential([\n",
    "        base_model,\n",
    "        Dropout(.2),\n",
    "        Dense(2, activation=activation)\n",
    "    ])\n",
    "    \n",
    "    for layer in model.layers[:-1]:\n",
    "        layer.trainable=True\n",
    "        \n",
    "    model.compile(\n",
    "        optimizer,\n",
    "        loss_function,\n",
    "        metrics=[\n",
    "            \"accuracy\"\n",
    "        ]\n",
    "    )\n",
    "    \n",
    "    return model"
   ]
  },
  {
   "cell_type": "code",
   "execution_count": null,
   "metadata": {},
   "outputs": [],
   "source": [
    "model_eff = get_model(EfficientNet)"
   ]
  },
  {
   "cell_type": "code",
   "execution_count": null,
   "metadata": {},
   "outputs": [],
   "source": [
    "model_eff.summary()"
   ]
  },
  {
   "cell_type": "code",
   "execution_count": null,
   "metadata": {},
   "outputs": [],
   "source": [
    "history_rsnet = model_eff.fit(\n",
    "    flow_train,\n",
    "    validation_data=flow_val,\n",
    "    epochs=1\n",
    ")"
   ]
  },
  {
   "cell_type": "code",
   "execution_count": null,
   "metadata": {},
   "outputs": [],
   "source": [
    "_, resnet_accuracy = model_eff.evaluate(flow_test)"
   ]
  },
  {
   "cell_type": "code",
   "execution_count": null,
   "metadata": {},
   "outputs": [],
   "source": [
    "import matplotlib.pyplot as plt\n",
    "\n",
    "plt.figure(figsize=(8, 5))\n",
    "plt.plot(history_rsnet.history[\"accuracy\"])\n",
    "plt.plot(history_rsnet.history[\"val_accuracy\"])\n",
    "plt.ylabel('accuracy')\n",
    "plt.xlabel('epoch')\n",
    "plt.show()\n",
    "\n",
    "plt.figure(figsize=(8, 5))\n",
    "plt.plot(history_rsnet.history[\"loss\"])\n",
    "plt.plot(history_rsnet.history[\"val_loss\"])\n",
    "plt.ylabel('loss')\n",
    "plt.xlabel('epoch')\n",
    "plt.show()\n"
   ]
  },
  {
   "cell_type": "code",
   "execution_count": null,
   "metadata": {},
   "outputs": [],
   "source": [
    "from keras import Model\n",
    "Model.save(\n",
    "    model_eff,\n",
    "    filepath=\".\\\\model\\\\experimental_model_severity_full90prc_S5.h5\",\n",
    "    overwrite=True,\n",
    "    include_optimizer=True,\n",
    "    save_format=None,\n",
    "    signatures=None,\n",
    "    options=None,\n",
    "    save_traces=True,\n",
    ")"
   ]
  }
 ],
 "metadata": {
  "kernelspec": {
   "display_name": "Python 3.10.6 64-bit",
   "language": "python",
   "name": "python3"
  },
  "language_info": {
   "codemirror_mode": {
    "name": "ipython",
    "version": 3
   },
   "file_extension": ".py",
   "mimetype": "text/x-python",
   "name": "python",
   "nbconvert_exporter": "python",
   "pygments_lexer": "ipython3",
   "version": "3.10.6"
  },
  "orig_nbformat": 4,
  "vscode": {
   "interpreter": {
    "hash": "f71b3aa69000d5c78d1421c4be6cf6621e82827a1b46894d8daac515bba9a137"
   }
  }
 },
 "nbformat": 4,
 "nbformat_minor": 2
}
