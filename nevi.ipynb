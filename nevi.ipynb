{
 "cells": [
  {
   "cell_type": "markdown",
   "metadata": {},
   "source": [
    "# NEVI\n",
    "\n",
    "Using the Noisy Student self-learning techniques we will dive deep to search the bottom of the ocean."
   ]
  },
  {
   "cell_type": "code",
   "execution_count": 1,
   "metadata": {},
   "outputs": [],
   "source": [
    "from keras.preprocessing.image import ImageDataGenerator\n",
    "from keras.applications.resnet_v2 import ResNet101V2, preprocess_input\n",
    "from keras.applications.efficientnet_v2 import EfficientNetV2B1, preprocess_input\n",
    "from keras.layers import Dense, Dropout\n",
    "from keras.models import Sequential\n",
    "from keras.layers import ThresholdedReLU\n",
    "from keras.models import load_model\n",
    "from sklearn.model_selection import train_test_split\n",
    "\n",
    "import pandas as pd\n",
    "import numpy as np\n",
    "import glob\n",
    "import PIL\n"
   ]
  },
  {
   "cell_type": "markdown",
   "metadata": {},
   "source": [
    "By Type"
   ]
  },
  {
   "cell_type": "code",
   "execution_count": 2,
   "metadata": {},
   "outputs": [],
   "source": [
    "TYPE_DATA_FOLDER_PATH  = \"grouped_images_by_type\"\n",
    "AKIEC_DATA_FOLDER_PATH = \"grouped_images_by_type\\\\akiec\\\\*\"\n",
    "BCC_DATA_FOLDER_PATH   = \"grouped_images_by_type\\\\bcc\\\\*\"\n",
    "BKL_DATA_FOLDER_PATH   = \"grouped_images_by_type\\\\bkl\\\\*\"\n",
    "DF_DATA_FOLDER_PATH    = \"grouped_images_by_type\\\\df\\\\*\"\n",
    "MEL_DATA_FOLDER_PATH   = \"grouped_images_by_type\\\\mel\\\\*\"\n",
    "NV_DATA_FOLDER_PATH    = \"grouped_images_by_type\\\\nv\\\\*\"\n",
    "VASC_DATA_FOLDER_PATH  = \"grouped_images_by_type\\\\vasc\\\\*\"\n",
    "TARGET_SIZE = (256, 256)\n",
    "INPUT_SHAPE = (256, 256, 3)\n",
    "BATCH_SIZE = 16"
   ]
  },
  {
   "cell_type": "code",
   "execution_count": 3,
   "metadata": {},
   "outputs": [],
   "source": [
    "imgs_AKIEC  = glob.glob(AKIEC_DATA_FOLDER_PATH)\n",
    "imgs_BCC    = glob.glob(BCC_DATA_FOLDER_PATH)\n",
    "imgs_BKL    = glob.glob(BKL_DATA_FOLDER_PATH)\n",
    "imgs_DF     = glob.glob(DF_DATA_FOLDER_PATH)\n",
    "imgs_MEL    = glob.glob(MEL_DATA_FOLDER_PATH)\n",
    "imgs_NV     = glob.glob(NV_DATA_FOLDER_PATH)\n",
    "imgs_VASC   = glob.glob(VASC_DATA_FOLDER_PATH)\n",
    "\n",
    "df_AKIEC = pd.DataFrame({'filename': imgs_AKIEC})\n",
    "df_AKIEC['class'] = 'AKIEC'\n",
    "df_BCC = pd.DataFrame({'filename': imgs_BCC})\n",
    "df_BCC['class'] = 'BCC'\n",
    "df_BKL = pd.DataFrame({'filename': imgs_BKL})\n",
    "df_BKL['class'] = 'BKL'\n",
    "df_DF = pd.DataFrame({'filename': imgs_DF})\n",
    "df_DF['class'] = 'DF'\n",
    "df_MEL = pd.DataFrame({'filename': imgs_MEL})\n",
    "df_MEL['class'] = 'MEL'\n",
    "df_NV = pd.DataFrame({'filename': imgs_NV})\n",
    "df_NV['class'] = 'NV'\n",
    "df_VASC = pd.DataFrame({'filename': imgs_VASC})\n",
    "df_VASC['class'] = 'VASC'\n",
    "\n",
    "df = pd.concat([df_AKIEC, df_BCC, df_BKL, df_DF, df_MEL, df_NV, df_VASC])\n",
    "\n",
    "df_train, df_temp = train_test_split(df, stratify=df['class'], test_size=.2)\n",
    "df_val, df_test = train_test_split(df_temp, stratify=df_temp['class'], test_size=.5)"
   ]
  },
  {
   "cell_type": "code",
   "execution_count": 17,
   "metadata": {},
   "outputs": [
    {
     "name": "stdout",
     "output_type": "stream",
     "text": [
      "Found 9773 images belonging to 7 classes.\n"
     ]
    }
   ],
   "source": [
    "\n",
    "\n",
    "data_generator_vis = ImageDataGenerator()\n",
    "flow_vis = data_generator_vis.flow_from_directory(\n",
    "    TYPE_DATA_FOLDER_PATH,\n",
    "    shuffle=True\n",
    ")"
   ]
  },
  {
   "cell_type": "code",
   "execution_count": 18,
   "metadata": {},
   "outputs": [],
   "source": [
    "data_generator_train = ImageDataGenerator(\n",
    "    preprocessing_function=preprocess_input,\n",
    "    horizontal_flip=True,\n",
    "    vertical_flip=True,\n",
    "    rotation_range=90,\n",
    "    shear_range=.1,\n",
    "    brightness_range=[0.8,1.0]\n",
    ")\n",
    "\n",
    "data_generator_val = ImageDataGenerator(\n",
    "    preprocessing_function=preprocess_input\n",
    ")\n",
    "\n",
    "data_generator_test = ImageDataGenerator(\n",
    "    preprocessing_function=preprocess_input\n",
    ")"
   ]
  },
  {
   "cell_type": "code",
   "execution_count": 19,
   "metadata": {},
   "outputs": [
    {
     "name": "stdout",
     "output_type": "stream",
     "text": [
      "Found 7818 validated image filenames belonging to 7 classes.\n",
      "Found 977 validated image filenames belonging to 7 classes.\n",
      "Found 978 validated image filenames belonging to 7 classes.\n"
     ]
    }
   ],
   "source": [
    "flow_train = data_generator_train.flow_from_dataframe(\n",
    "    df_train,\n",
    "    target_size=TARGET_SIZE,\n",
    "    batch_size=BATCH_SIZE,\n",
    "    shuffle=True\n",
    ")\n",
    "\n",
    "flow_val = data_generator_val.flow_from_dataframe(\n",
    "    df_val,\n",
    "    target_size=TARGET_SIZE,\n",
    "    batch_size=BATCH_SIZE,\n",
    "    shuffle=True\n",
    "    \n",
    ")\n",
    "\n",
    "flow_test = data_generator_test.flow_from_dataframe(\n",
    "    df_test,\n",
    "    target_size=TARGET_SIZE,\n",
    "    batch_size=BATCH_SIZE,\n",
    "    shuffle=True\n",
    ")"
   ]
  },
  {
   "cell_type": "code",
   "execution_count": 31,
   "metadata": {},
   "outputs": [],
   "source": [
    "CLASS_MAP = {class_number: class_name.split('.')[0] for class_name, class_number in flow_vis.class_indices.items()}"
   ]
  },
  {
   "cell_type": "code",
   "execution_count": 13,
   "metadata": {},
   "outputs": [],
   "source": [
    "EfficientNet = EfficientNetV2B1(\n",
    "    include_top=False,\n",
    "    weights='imagenet',\n",
    "    input_shape=INPUT_SHAPE,\n",
    "    pooling='max'\n",
    ")"
   ]
  },
  {
   "cell_type": "code",
   "execution_count": 14,
   "metadata": {},
   "outputs": [],
   "source": [
    "def get_model(base_model, activation=\"softmax\", optimizer: str=\"adam\", loss_function: str=\"CategoricalCrossentropy\"):\n",
    "    model = Sequential([\n",
    "        base_model,\n",
    "        Dropout(.2),\n",
    "        Dense(7, activation=activation)\n",
    "    ])\n",
    "    \n",
    "    for layer in model.layers[:-1]:\n",
    "        layer.trainable=True\n",
    "        \n",
    "    model.compile(\n",
    "        optimizer,\n",
    "        loss_function,\n",
    "        metrics=[\n",
    "            \"accuracy\"\n",
    "        ]\n",
    "    )\n",
    "    \n",
    "    return model"
   ]
  },
  {
   "cell_type": "code",
   "execution_count": 15,
   "metadata": {},
   "outputs": [],
   "source": [
    "model_eff = get_model(EfficientNet)"
   ]
  },
  {
   "cell_type": "code",
   "execution_count": 27,
   "metadata": {},
   "outputs": [],
   "source": [
    "model_eff = load_model(\"model\\mymodel2.h5\")"
   ]
  },
  {
   "cell_type": "code",
   "execution_count": 20,
   "metadata": {},
   "outputs": [
    {
     "name": "stdout",
     "output_type": "stream",
     "text": [
      "Epoch 1/10\n",
      "489/489 [==============================] - 76s 154ms/step - loss: 0.0761 - accuracy: 0.9720 - val_loss: 0.2088 - val_accuracy: 0.9324\n",
      "Epoch 2/10\n",
      "489/489 [==============================] - 77s 158ms/step - loss: 0.0580 - accuracy: 0.9809 - val_loss: 0.2340 - val_accuracy: 0.9355\n",
      "Epoch 3/10\n",
      "489/489 [==============================] - 78s 159ms/step - loss: 0.0591 - accuracy: 0.9802 - val_loss: 0.2777 - val_accuracy: 0.9396\n",
      "Epoch 4/10\n",
      "489/489 [==============================] - 81s 166ms/step - loss: 0.0625 - accuracy: 0.9808 - val_loss: 0.1656 - val_accuracy: 0.9458\n",
      "Epoch 5/10\n",
      "489/489 [==============================] - 83s 169ms/step - loss: 0.0664 - accuracy: 0.9784 - val_loss: 0.2888 - val_accuracy: 0.9304\n",
      "Epoch 6/10\n",
      "489/489 [==============================] - 83s 170ms/step - loss: 0.0793 - accuracy: 0.9720 - val_loss: 0.2275 - val_accuracy: 0.9314\n",
      "Epoch 7/10\n",
      "489/489 [==============================] - 84s 171ms/step - loss: 0.0611 - accuracy: 0.9789 - val_loss: 0.1982 - val_accuracy: 0.9478\n",
      "Epoch 8/10\n",
      "489/489 [==============================] - 81s 165ms/step - loss: 0.0708 - accuracy: 0.9762 - val_loss: 0.2453 - val_accuracy: 0.9294\n",
      "Epoch 9/10\n",
      "489/489 [==============================] - 78s 159ms/step - loss: 0.0600 - accuracy: 0.9799 - val_loss: 0.2947 - val_accuracy: 0.9314\n",
      "Epoch 10/10\n",
      "489/489 [==============================] - 77s 158ms/step - loss: 0.0860 - accuracy: 0.9713 - val_loss: 0.2353 - val_accuracy: 0.9253\n"
     ]
    }
   ],
   "source": [
    "history_eff = model_eff.fit(\n",
    "    flow_train,\n",
    "    validation_data=flow_val,\n",
    "    epochs=10\n",
    ")"
   ]
  },
  {
   "cell_type": "code",
   "execution_count": 22,
   "metadata": {},
   "outputs": [],
   "source": [
    "from keras import Model\n",
    "Model.save(\n",
    "    model_eff,\n",
    "    filepath=\".\\\\model\\\\mymodel3.h5\",\n",
    "    overwrite=True,\n",
    "    include_optimizer=True,\n",
    "    save_format=None,\n",
    "    signatures=None,\n",
    "    options=None,\n",
    "    save_traces=True,\n",
    ")"
   ]
  },
  {
   "cell_type": "code",
   "execution_count": 28,
   "metadata": {},
   "outputs": [
    {
     "name": "stdout",
     "output_type": "stream",
     "text": [
      "62/62 [==============================] - 3s 27ms/step - loss: 0.1656 - accuracy: 0.9550\n"
     ]
    }
   ],
   "source": [
    "_, resnet_accuracy = model_eff.evaluate(flow_test)"
   ]
  },
  {
   "cell_type": "code",
   "execution_count": 29,
   "metadata": {},
   "outputs": [
    {
     "data": {
      "image/png": "[encoded data removed]",
      "text/plain": [
       "<Figure size 600x500 with 1 Axes>"
      ]
     },
     "metadata": {},
     "output_type": "display_data"
    }
   ],
   "source": [
    "import matplotlib.pyplot as plt\n",
    "\n",
    "plt.figure(figsize=(6, 5))\n",
    "plt.plot(history_eff.history[\"accuracy\"])\n",
    "plt.plot(history_eff.history[\"val_accuracy\"])\n",
    "plt.plot(history_eff.history[\"loss\"])\n",
    "plt.plot(history_eff.history[\"val_loss\"])\n",
    "plt.ylabel('accuracy/loss')\n",
    "plt.xlabel('epoch')\n",
    "plt.show()\n"
   ]
  },
  {
   "cell_type": "code",
   "execution_count": null,
   "metadata": {},
   "outputs": [],
   "source": [
    "custom_model = 0"
   ]
  },
  {
   "cell_type": "markdown",
   "metadata": {},
   "source": [
    "By Severity"
   ]
  },
  {
   "cell_type": "code",
   "execution_count": 3,
   "metadata": {},
   "outputs": [],
   "source": [
    "SEVERITY_DATA_FOLDER_PATH = \"grouped_images_by_severity\"\n",
    "BENIGN_DATA_FOLDER_PATH = \"grouped_images_by_severity\\\\benign\\\\*\"\n",
    "MALIGNANT_DATA_FOLDER_PATH = \"grouped_images_by_severity\\\\malignant\\\\*\"\n",
    "TARGET_SIZE = (300, 300)\n",
    "INPUT_SHAPE = (300, 300, 3)\n",
    "BATCH_SIZE = 32"
   ]
  },
  {
   "cell_type": "code",
   "execution_count": null,
   "metadata": {},
   "outputs": [],
   "source": [
    "imgs_benign = glob.glob(BENIGN_DATA_FOLDER_PATH)\n",
    "imgs_malignant = glob.glob(MALIGNANT_DATA_FOLDER_PATH)\n",
    "\n",
    "df_benign = pd.DataFrame({'filename': imgs_benign})\n",
    "df_benign['class'] = 'benign'\n",
    "df_malignant = pd.DataFrame({'filename': imgs_malignant})\n",
    "df_malignant['class'] = 'melignant'\n",
    "\n",
    "df = pd.concat([df_benign, df_malignant])\n",
    "\n",
    "df_train, df_temp = train_test_split(df, stratify=df['class'], test_size=.2)\n",
    "df_val, df_test = train_test_split(df_temp, stratify=df_temp['class'], test_size=.5)\n"
   ]
  },
  {
   "cell_type": "code",
   "execution_count": 5,
   "metadata": {},
   "outputs": [
    {
     "name": "stdout",
     "output_type": "stream",
     "text": [
      "Found 9773 images belonging to 2 classes.\n"
     ]
    }
   ],
   "source": [
    "np.random.seed(41)\n",
    "\n",
    "data_generator_vis = ImageDataGenerator()\n",
    "flow_vis = data_generator_vis.flow_from_directory(\n",
    "    SEVERITY_DATA_FOLDER_PATH,\n",
    "    shuffle=True\n",
    ")"
   ]
  },
  {
   "cell_type": "code",
   "execution_count": 6,
   "metadata": {},
   "outputs": [],
   "source": [
    "data_generator_train = ImageDataGenerator(\n",
    "    preprocessing_function=preprocess_input,\n",
    "    horizontal_flip=True,\n",
    "    rotation_range=5,\n",
    "    shear_range=.1\n",
    ")\n",
    "\n",
    "data_generator_val = ImageDataGenerator(\n",
    "    preprocessing_function=preprocess_input\n",
    ")\n",
    "\n",
    "data_generator_test = ImageDataGenerator(\n",
    "    preprocessing_function=preprocess_input\n",
    ")\n"
   ]
  },
  {
   "cell_type": "code",
   "execution_count": 7,
   "metadata": {},
   "outputs": [
    {
     "name": "stdout",
     "output_type": "stream",
     "text": [
      "Found 7818 validated image filenames belonging to 2 classes.\n",
      "Found 977 validated image filenames belonging to 2 classes.\n",
      "Found 978 validated image filenames belonging to 2 classes.\n"
     ]
    }
   ],
   "source": [
    "flow_train = data_generator_train.flow_from_dataframe(\n",
    "    df_train,\n",
    "    target_size=TARGET_SIZE,\n",
    "    batch_size=BATCH_SIZE,\n",
    "    shuffle=True\n",
    ")\n",
    "\n",
    "flow_val = data_generator_val.flow_from_dataframe(\n",
    "    df_val,\n",
    "    target_size=TARGET_SIZE,\n",
    "    batch_size=BATCH_SIZE,\n",
    "    shuffle=True\n",
    "    \n",
    ")\n",
    "\n",
    "flow_test = data_generator_test.flow_from_dataframe(\n",
    "    df_test,\n",
    "    target_size=TARGET_SIZE,\n",
    "    batch_size=BATCH_SIZE,\n",
    "    shuffle=True\n",
    ")\n",
    "\n"
   ]
  },
  {
   "cell_type": "code",
   "execution_count": 8,
   "metadata": {},
   "outputs": [],
   "source": [
    "CLASS_MAP = {class_number: class_name.split('.')[0] for class_name, class_number in flow_vis.class_indices.items()}"
   ]
  },
  {
   "cell_type": "code",
   "execution_count": 9,
   "metadata": {},
   "outputs": [
    {
     "name": "stdout",
     "output_type": "stream",
     "text": [
      "Downloading data from https://storage.googleapis.com/tensorflow/keras-applications/efficientnet_v2/efficientnetv2-b3_notop.h5\n",
      "52606240/52606240 [==============================] - 1s 0us/step\n"
     ]
    }
   ],
   "source": [
    "EfficientNet = EfficientNetV2B3(\n",
    "    include_top=False,\n",
    "    weights='imagenet',\n",
    "    input_shape=INPUT_SHAPE,\n",
    "    pooling='max'\n",
    ")"
   ]
  },
  {
   "cell_type": "code",
   "execution_count": 10,
   "metadata": {},
   "outputs": [],
   "source": [
    "def get_model(base_model, activation: str=\"softmax\", optimizer: str=\"adam\", loss_function: str=\"CategoricalCrossentropy\"):\n",
    "    model = Sequential([\n",
    "        base_model,\n",
    "        Dropout(.2),\n",
    "        Dense(2, activation=activation)\n",
    "    ])\n",
    "    \n",
    "    for layer in model.layers[:-1]:\n",
    "        layer.trainable=False\n",
    "        \n",
    "    model.compile(\n",
    "        optimizer,\n",
    "        loss_function,\n",
    "        metrics=[\n",
    "            \"accuracy\"\n",
    "        ]\n",
    "    )\n",
    "    \n",
    "    return model"
   ]
  },
  {
   "cell_type": "code",
   "execution_count": 11,
   "metadata": {},
   "outputs": [],
   "source": [
    "model_eff = get_model(EfficientNet)"
   ]
  },
  {
   "cell_type": "code",
   "execution_count": 12,
   "metadata": {},
   "outputs": [
    {
     "name": "stdout",
     "output_type": "stream",
     "text": [
      "Model: \"sequential\"\n",
      "_________________________________________________________________\n",
      " Layer (type)                Output Shape              Param #   \n",
      "=================================================================\n",
      " efficientnetv2-b3 (Function  (None, 1536)             12930622  \n",
      " al)                                                             \n",
      "                                                                 \n",
      " dropout (Dropout)           (None, 1536)              0         \n",
      "                                                                 \n",
      " dense (Dense)               (None, 2)                 3074      \n",
      "                                                                 \n",
      "=================================================================\n",
      "Total params: 12,933,696\n",
      "Trainable params: 3,074\n",
      "Non-trainable params: 12,930,622\n",
      "_________________________________________________________________\n"
     ]
    }
   ],
   "source": [
    "model_eff.summary()"
   ]
  },
  {
   "cell_type": "code",
   "execution_count": 13,
   "metadata": {},
   "outputs": [
    {
     "name": "stdout",
     "output_type": "stream",
     "text": [
      "Epoch 1/50\n",
      "245/245 [==============================] - 100s 374ms/step - loss: 0.9385 - accuracy: 0.7545 - val_loss: 0.5391 - val_accuracy: 0.7707\n",
      "Epoch 2/50\n",
      "245/245 [==============================] - 90s 366ms/step - loss: 0.7505 - accuracy: 0.7746 - val_loss: 0.5439 - val_accuracy: 0.7697\n",
      "Epoch 3/50\n",
      "245/245 [==============================] - 94s 383ms/step - loss: 0.6553 - accuracy: 0.7883 - val_loss: 0.7297 - val_accuracy: 0.8117\n",
      "Epoch 4/50\n",
      "245/245 [==============================] - 97s 395ms/step - loss: 0.6100 - accuracy: 0.7883 - val_loss: 0.4822 - val_accuracy: 0.8291\n",
      "Epoch 5/50\n",
      "245/245 [==============================] - 96s 392ms/step - loss: 0.5934 - accuracy: 0.7948 - val_loss: 0.3963 - val_accuracy: 0.8096\n",
      "Epoch 6/50\n",
      "245/245 [==============================] - 96s 392ms/step - loss: 0.5854 - accuracy: 0.7988 - val_loss: 0.4559 - val_accuracy: 0.7984\n",
      "Epoch 7/50\n",
      "245/245 [==============================] - 90s 365ms/step - loss: 0.5224 - accuracy: 0.8001 - val_loss: 0.7273 - val_accuracy: 0.6940\n",
      "Epoch 8/50\n",
      "245/245 [==============================] - 89s 364ms/step - loss: 0.5740 - accuracy: 0.7947 - val_loss: 0.3706 - val_accuracy: 0.8250\n",
      "Epoch 9/50\n",
      "245/245 [==============================] - 89s 363ms/step - loss: 0.4670 - accuracy: 0.8176 - val_loss: 0.3828 - val_accuracy: 0.8260\n",
      "Epoch 10/50\n",
      "245/245 [==============================] - 89s 362ms/step - loss: 0.5408 - accuracy: 0.7992 - val_loss: 0.3627 - val_accuracy: 0.8291\n",
      "Epoch 11/50\n",
      "245/245 [==============================] - 89s 364ms/step - loss: 0.4848 - accuracy: 0.8086 - val_loss: 0.3922 - val_accuracy: 0.8209\n",
      "Epoch 12/50\n",
      "245/245 [==============================] - 91s 370ms/step - loss: 0.5000 - accuracy: 0.8061 - val_loss: 0.4148 - val_accuracy: 0.8270\n",
      "Epoch 13/50\n",
      "245/245 [==============================] - 89s 362ms/step - loss: 0.4782 - accuracy: 0.8081 - val_loss: 0.3703 - val_accuracy: 0.8301\n",
      "Epoch 14/50\n",
      "245/245 [==============================] - 89s 362ms/step - loss: 0.5658 - accuracy: 0.7964 - val_loss: 0.3867 - val_accuracy: 0.8362\n",
      "Epoch 15/50\n",
      "245/245 [==============================] - 89s 363ms/step - loss: 0.6226 - accuracy: 0.7883 - val_loss: 0.7252 - val_accuracy: 0.8168\n",
      "Epoch 16/50\n",
      "245/245 [==============================] - 89s 362ms/step - loss: 0.4936 - accuracy: 0.8070 - val_loss: 0.3775 - val_accuracy: 0.8188\n",
      "Epoch 17/50\n",
      "245/245 [==============================] - 89s 364ms/step - loss: 0.4472 - accuracy: 0.8145 - val_loss: 0.3610 - val_accuracy: 0.8280\n",
      "Epoch 18/50\n",
      "245/245 [==============================] - 89s 363ms/step - loss: 0.6041 - accuracy: 0.7914 - val_loss: 0.6880 - val_accuracy: 0.8086\n",
      "Epoch 19/50\n",
      "245/245 [==============================] - 89s 363ms/step - loss: 0.4872 - accuracy: 0.8071 - val_loss: 0.3761 - val_accuracy: 0.8168\n",
      "Epoch 20/50\n",
      "245/245 [==============================] - 89s 363ms/step - loss: 0.4809 - accuracy: 0.8071 - val_loss: 0.5490 - val_accuracy: 0.7339\n",
      "Epoch 21/50\n",
      "245/245 [==============================] - 89s 364ms/step - loss: 0.5670 - accuracy: 0.7966 - val_loss: 0.5232 - val_accuracy: 0.7656\n",
      "Epoch 22/50\n",
      "245/245 [==============================] - 89s 362ms/step - loss: 0.5007 - accuracy: 0.8097 - val_loss: 0.3588 - val_accuracy: 0.8321\n",
      "Epoch 23/50\n",
      "245/245 [==============================] - 89s 361ms/step - loss: 0.4954 - accuracy: 0.8094 - val_loss: 0.3749 - val_accuracy: 0.8229\n",
      "Epoch 24/50\n",
      "245/245 [==============================] - 89s 365ms/step - loss: 0.5053 - accuracy: 0.8069 - val_loss: 0.5307 - val_accuracy: 0.7492\n",
      "Epoch 25/50\n",
      "245/245 [==============================] - 88s 361ms/step - loss: 0.4988 - accuracy: 0.8062 - val_loss: 0.3509 - val_accuracy: 0.8373\n",
      "Epoch 26/50\n",
      "245/245 [==============================] - 89s 363ms/step - loss: 0.4844 - accuracy: 0.8047 - val_loss: 0.4781 - val_accuracy: 0.7636\n",
      "Epoch 27/50\n",
      "245/245 [==============================] - 89s 361ms/step - loss: 0.5352 - accuracy: 0.7985 - val_loss: 0.5086 - val_accuracy: 0.8178\n",
      "Epoch 28/50\n",
      "245/245 [==============================] - 89s 363ms/step - loss: 0.5098 - accuracy: 0.8052 - val_loss: 0.4022 - val_accuracy: 0.8240\n",
      "Epoch 29/50\n",
      "245/245 [==============================] - 89s 362ms/step - loss: 0.4946 - accuracy: 0.8086 - val_loss: 0.4168 - val_accuracy: 0.8240\n",
      "Epoch 30/50\n",
      "245/245 [==============================] - 89s 363ms/step - loss: 0.4721 - accuracy: 0.8053 - val_loss: 0.4691 - val_accuracy: 0.8178\n",
      "Epoch 31/50\n",
      "245/245 [==============================] - 89s 363ms/step - loss: 0.4984 - accuracy: 0.8023 - val_loss: 0.3684 - val_accuracy: 0.8280\n",
      "Epoch 32/50\n",
      "245/245 [==============================] - 89s 364ms/step - loss: 0.4813 - accuracy: 0.8085 - val_loss: 0.4085 - val_accuracy: 0.8209\n",
      "Epoch 33/50\n",
      "245/245 [==============================] - 89s 363ms/step - loss: 0.4822 - accuracy: 0.8147 - val_loss: 0.6705 - val_accuracy: 0.8086\n",
      "Epoch 34/50\n",
      "245/245 [==============================] - 89s 363ms/step - loss: 0.4741 - accuracy: 0.8034 - val_loss: 0.3842 - val_accuracy: 0.8106\n",
      "Epoch 35/50\n",
      "245/245 [==============================] - 92s 377ms/step - loss: 0.4995 - accuracy: 0.8049 - val_loss: 0.6322 - val_accuracy: 0.8137\n",
      "Epoch 36/50\n",
      "245/245 [==============================] - 94s 383ms/step - loss: 0.5145 - accuracy: 0.8037 - val_loss: 0.3561 - val_accuracy: 0.8362\n",
      "Epoch 37/50\n",
      "245/245 [==============================] - 94s 382ms/step - loss: 0.4594 - accuracy: 0.8098 - val_loss: 0.3668 - val_accuracy: 0.8209\n",
      "Epoch 38/50\n",
      "245/245 [==============================] - 93s 379ms/step - loss: 0.4878 - accuracy: 0.8023 - val_loss: 0.3807 - val_accuracy: 0.8188\n",
      "Epoch 39/50\n",
      "245/245 [==============================] - 93s 377ms/step - loss: 0.5117 - accuracy: 0.8080 - val_loss: 0.4454 - val_accuracy: 0.8270\n",
      "Epoch 40/50\n",
      "245/245 [==============================] - 93s 380ms/step - loss: 0.5003 - accuracy: 0.8010 - val_loss: 0.4555 - val_accuracy: 0.8260\n",
      "Epoch 41/50\n",
      "214/245 [=========================>....] - ETA: 11s - loss: 0.4900 - accuracy: 0.8003"
     ]
    },
    {
     "ename": "KeyboardInterrupt",
     "evalue": "",
     "output_type": "error",
     "traceback": [
      "\u001b[1;31m---------------------------------------------------------------------------\u001b[0m",
      "\u001b[1;31mKeyboardInterrupt\u001b[0m                         Traceback (most recent call last)",
      "\u001b[1;32md:\\Projects\\thesis\\lobster.ipynb Cell 25\u001b[0m in \u001b[0;36m<cell line: 1>\u001b[1;34m()\u001b[0m\n\u001b[1;32m----> <a href='vscode-notebook-cell:/d%3A/Projects/thesis/lobster.ipynb#X23sZmlsZQ%3D%3D?line=0'>1</a>\u001b[0m history_rsnet \u001b[39m=\u001b[39m model_eff\u001b[39m.\u001b[39;49mfit(\n\u001b[0;32m      <a href='vscode-notebook-cell:/d%3A/Projects/thesis/lobster.ipynb#X23sZmlsZQ%3D%3D?line=1'>2</a>\u001b[0m     flow_train,\n\u001b[0;32m      <a href='vscode-notebook-cell:/d%3A/Projects/thesis/lobster.ipynb#X23sZmlsZQ%3D%3D?line=2'>3</a>\u001b[0m     validation_data\u001b[39m=\u001b[39;49mflow_val,\n\u001b[0;32m      <a href='vscode-notebook-cell:/d%3A/Projects/thesis/lobster.ipynb#X23sZmlsZQ%3D%3D?line=3'>4</a>\u001b[0m     epochs\u001b[39m=\u001b[39;49m\u001b[39m50\u001b[39;49m\n\u001b[0;32m      <a href='vscode-notebook-cell:/d%3A/Projects/thesis/lobster.ipynb#X23sZmlsZQ%3D%3D?line=4'>5</a>\u001b[0m )\n",
      "File \u001b[1;32md:\\Programming\\Pythons\\lib\\site-packages\\keras\\utils\\traceback_utils.py:64\u001b[0m, in \u001b[0;36mfilter_traceback.<locals>.error_handler\u001b[1;34m(*args, **kwargs)\u001b[0m\n\u001b[0;32m     62\u001b[0m filtered_tb \u001b[39m=\u001b[39m \u001b[39mNone\u001b[39;00m\n\u001b[0;32m     63\u001b[0m \u001b[39mtry\u001b[39;00m:\n\u001b[1;32m---> 64\u001b[0m   \u001b[39mreturn\u001b[39;00m fn(\u001b[39m*\u001b[39margs, \u001b[39m*\u001b[39m\u001b[39m*\u001b[39mkwargs)\n\u001b[0;32m     65\u001b[0m \u001b[39mexcept\u001b[39;00m \u001b[39mException\u001b[39;00m \u001b[39mas\u001b[39;00m e:  \u001b[39m# pylint: disable=broad-except\u001b[39;00m\n\u001b[0;32m     66\u001b[0m   filtered_tb \u001b[39m=\u001b[39m _process_traceback_frames(e\u001b[39m.\u001b[39m__traceback__)\n",
      "File \u001b[1;32md:\\Programming\\Pythons\\lib\\site-packages\\keras\\engine\\training.py:1409\u001b[0m, in \u001b[0;36mModel.fit\u001b[1;34m(self, x, y, batch_size, epochs, verbose, callbacks, validation_split, validation_data, shuffle, class_weight, sample_weight, initial_epoch, steps_per_epoch, validation_steps, validation_batch_size, validation_freq, max_queue_size, workers, use_multiprocessing)\u001b[0m\n\u001b[0;32m   1402\u001b[0m \u001b[39mwith\u001b[39;00m tf\u001b[39m.\u001b[39mprofiler\u001b[39m.\u001b[39mexperimental\u001b[39m.\u001b[39mTrace(\n\u001b[0;32m   1403\u001b[0m     \u001b[39m'\u001b[39m\u001b[39mtrain\u001b[39m\u001b[39m'\u001b[39m,\n\u001b[0;32m   1404\u001b[0m     epoch_num\u001b[39m=\u001b[39mepoch,\n\u001b[0;32m   1405\u001b[0m     step_num\u001b[39m=\u001b[39mstep,\n\u001b[0;32m   1406\u001b[0m     batch_size\u001b[39m=\u001b[39mbatch_size,\n\u001b[0;32m   1407\u001b[0m     _r\u001b[39m=\u001b[39m\u001b[39m1\u001b[39m):\n\u001b[0;32m   1408\u001b[0m   callbacks\u001b[39m.\u001b[39mon_train_batch_begin(step)\n\u001b[1;32m-> 1409\u001b[0m   tmp_logs \u001b[39m=\u001b[39m \u001b[39mself\u001b[39;49m\u001b[39m.\u001b[39;49mtrain_function(iterator)\n\u001b[0;32m   1410\u001b[0m   \u001b[39mif\u001b[39;00m data_handler\u001b[39m.\u001b[39mshould_sync:\n\u001b[0;32m   1411\u001b[0m     context\u001b[39m.\u001b[39masync_wait()\n",
      "File \u001b[1;32md:\\Programming\\Pythons\\lib\\site-packages\\tensorflow\\python\\util\\traceback_utils.py:150\u001b[0m, in \u001b[0;36mfilter_traceback.<locals>.error_handler\u001b[1;34m(*args, **kwargs)\u001b[0m\n\u001b[0;32m    148\u001b[0m filtered_tb \u001b[39m=\u001b[39m \u001b[39mNone\u001b[39;00m\n\u001b[0;32m    149\u001b[0m \u001b[39mtry\u001b[39;00m:\n\u001b[1;32m--> 150\u001b[0m   \u001b[39mreturn\u001b[39;00m fn(\u001b[39m*\u001b[39margs, \u001b[39m*\u001b[39m\u001b[39m*\u001b[39mkwargs)\n\u001b[0;32m    151\u001b[0m \u001b[39mexcept\u001b[39;00m \u001b[39mException\u001b[39;00m \u001b[39mas\u001b[39;00m e:\n\u001b[0;32m    152\u001b[0m   filtered_tb \u001b[39m=\u001b[39m _process_traceback_frames(e\u001b[39m.\u001b[39m__traceback__)\n",
      "File \u001b[1;32md:\\Programming\\Pythons\\lib\\site-packages\\tensorflow\\python\\eager\\def_function.py:915\u001b[0m, in \u001b[0;36mFunction.__call__\u001b[1;34m(self, *args, **kwds)\u001b[0m\n\u001b[0;32m    912\u001b[0m compiler \u001b[39m=\u001b[39m \u001b[39m\"\u001b[39m\u001b[39mxla\u001b[39m\u001b[39m\"\u001b[39m \u001b[39mif\u001b[39;00m \u001b[39mself\u001b[39m\u001b[39m.\u001b[39m_jit_compile \u001b[39melse\u001b[39;00m \u001b[39m\"\u001b[39m\u001b[39mnonXla\u001b[39m\u001b[39m\"\u001b[39m\n\u001b[0;32m    914\u001b[0m \u001b[39mwith\u001b[39;00m OptionalXlaContext(\u001b[39mself\u001b[39m\u001b[39m.\u001b[39m_jit_compile):\n\u001b[1;32m--> 915\u001b[0m   result \u001b[39m=\u001b[39m \u001b[39mself\u001b[39m\u001b[39m.\u001b[39m_call(\u001b[39m*\u001b[39margs, \u001b[39m*\u001b[39m\u001b[39m*\u001b[39mkwds)\n\u001b[0;32m    917\u001b[0m new_tracing_count \u001b[39m=\u001b[39m \u001b[39mself\u001b[39m\u001b[39m.\u001b[39mexperimental_get_tracing_count()\n\u001b[0;32m    918\u001b[0m without_tracing \u001b[39m=\u001b[39m (tracing_count \u001b[39m==\u001b[39m new_tracing_count)\n",
      "File \u001b[1;32md:\\Programming\\Pythons\\lib\\site-packages\\tensorflow\\python\\eager\\def_function.py:947\u001b[0m, in \u001b[0;36mFunction._call\u001b[1;34m(self, *args, **kwds)\u001b[0m\n\u001b[0;32m    944\u001b[0m   \u001b[39mself\u001b[39m\u001b[39m.\u001b[39m_lock\u001b[39m.\u001b[39mrelease()\n\u001b[0;32m    945\u001b[0m   \u001b[39m# In this case we have created variables on the first call, so we run the\u001b[39;00m\n\u001b[0;32m    946\u001b[0m   \u001b[39m# defunned version which is guaranteed to never create variables.\u001b[39;00m\n\u001b[1;32m--> 947\u001b[0m   \u001b[39mreturn\u001b[39;00m \u001b[39mself\u001b[39m\u001b[39m.\u001b[39m_stateless_fn(\u001b[39m*\u001b[39margs, \u001b[39m*\u001b[39m\u001b[39m*\u001b[39mkwds)  \u001b[39m# pylint: disable=not-callable\u001b[39;00m\n\u001b[0;32m    948\u001b[0m \u001b[39melif\u001b[39;00m \u001b[39mself\u001b[39m\u001b[39m.\u001b[39m_stateful_fn \u001b[39mis\u001b[39;00m \u001b[39mnot\u001b[39;00m \u001b[39mNone\u001b[39;00m:\n\u001b[0;32m    949\u001b[0m   \u001b[39m# Release the lock early so that multiple threads can perform the call\u001b[39;00m\n\u001b[0;32m    950\u001b[0m   \u001b[39m# in parallel.\u001b[39;00m\n\u001b[0;32m    951\u001b[0m   \u001b[39mself\u001b[39m\u001b[39m.\u001b[39m_lock\u001b[39m.\u001b[39mrelease()\n",
      "File \u001b[1;32md:\\Programming\\Pythons\\lib\\site-packages\\tensorflow\\python\\eager\\function.py:2453\u001b[0m, in \u001b[0;36mFunction.__call__\u001b[1;34m(self, *args, **kwargs)\u001b[0m\n\u001b[0;32m   2450\u001b[0m \u001b[39mwith\u001b[39;00m \u001b[39mself\u001b[39m\u001b[39m.\u001b[39m_lock:\n\u001b[0;32m   2451\u001b[0m   (graph_function,\n\u001b[0;32m   2452\u001b[0m    filtered_flat_args) \u001b[39m=\u001b[39m \u001b[39mself\u001b[39m\u001b[39m.\u001b[39m_maybe_define_function(args, kwargs)\n\u001b[1;32m-> 2453\u001b[0m \u001b[39mreturn\u001b[39;00m graph_function\u001b[39m.\u001b[39;49m_call_flat(\n\u001b[0;32m   2454\u001b[0m     filtered_flat_args, captured_inputs\u001b[39m=\u001b[39;49mgraph_function\u001b[39m.\u001b[39;49mcaptured_inputs)\n",
      "File \u001b[1;32md:\\Programming\\Pythons\\lib\\site-packages\\tensorflow\\python\\eager\\function.py:1860\u001b[0m, in \u001b[0;36mConcreteFunction._call_flat\u001b[1;34m(self, args, captured_inputs, cancellation_manager)\u001b[0m\n\u001b[0;32m   1856\u001b[0m possible_gradient_type \u001b[39m=\u001b[39m gradients_util\u001b[39m.\u001b[39mPossibleTapeGradientTypes(args)\n\u001b[0;32m   1857\u001b[0m \u001b[39mif\u001b[39;00m (possible_gradient_type \u001b[39m==\u001b[39m gradients_util\u001b[39m.\u001b[39mPOSSIBLE_GRADIENT_TYPES_NONE\n\u001b[0;32m   1858\u001b[0m     \u001b[39mand\u001b[39;00m executing_eagerly):\n\u001b[0;32m   1859\u001b[0m   \u001b[39m# No tape is watching; skip to running the function.\u001b[39;00m\n\u001b[1;32m-> 1860\u001b[0m   \u001b[39mreturn\u001b[39;00m \u001b[39mself\u001b[39m\u001b[39m.\u001b[39m_build_call_outputs(\u001b[39mself\u001b[39;49m\u001b[39m.\u001b[39;49m_inference_function\u001b[39m.\u001b[39;49mcall(\n\u001b[0;32m   1861\u001b[0m       ctx, args, cancellation_manager\u001b[39m=\u001b[39;49mcancellation_manager))\n\u001b[0;32m   1862\u001b[0m forward_backward \u001b[39m=\u001b[39m \u001b[39mself\u001b[39m\u001b[39m.\u001b[39m_select_forward_and_backward_functions(\n\u001b[0;32m   1863\u001b[0m     args,\n\u001b[0;32m   1864\u001b[0m     possible_gradient_type,\n\u001b[0;32m   1865\u001b[0m     executing_eagerly)\n\u001b[0;32m   1866\u001b[0m forward_function, args_with_tangents \u001b[39m=\u001b[39m forward_backward\u001b[39m.\u001b[39mforward()\n",
      "File \u001b[1;32md:\\Programming\\Pythons\\lib\\site-packages\\tensorflow\\python\\eager\\function.py:497\u001b[0m, in \u001b[0;36m_EagerDefinedFunction.call\u001b[1;34m(self, ctx, args, cancellation_manager)\u001b[0m\n\u001b[0;32m    495\u001b[0m \u001b[39mwith\u001b[39;00m _InterpolateFunctionError(\u001b[39mself\u001b[39m):\n\u001b[0;32m    496\u001b[0m   \u001b[39mif\u001b[39;00m cancellation_manager \u001b[39mis\u001b[39;00m \u001b[39mNone\u001b[39;00m:\n\u001b[1;32m--> 497\u001b[0m     outputs \u001b[39m=\u001b[39m execute\u001b[39m.\u001b[39;49mexecute(\n\u001b[0;32m    498\u001b[0m         \u001b[39mstr\u001b[39;49m(\u001b[39mself\u001b[39;49m\u001b[39m.\u001b[39;49msignature\u001b[39m.\u001b[39;49mname),\n\u001b[0;32m    499\u001b[0m         num_outputs\u001b[39m=\u001b[39;49m\u001b[39mself\u001b[39;49m\u001b[39m.\u001b[39;49m_num_outputs,\n\u001b[0;32m    500\u001b[0m         inputs\u001b[39m=\u001b[39;49margs,\n\u001b[0;32m    501\u001b[0m         attrs\u001b[39m=\u001b[39;49mattrs,\n\u001b[0;32m    502\u001b[0m         ctx\u001b[39m=\u001b[39;49mctx)\n\u001b[0;32m    503\u001b[0m   \u001b[39melse\u001b[39;00m:\n\u001b[0;32m    504\u001b[0m     outputs \u001b[39m=\u001b[39m execute\u001b[39m.\u001b[39mexecute_with_cancellation(\n\u001b[0;32m    505\u001b[0m         \u001b[39mstr\u001b[39m(\u001b[39mself\u001b[39m\u001b[39m.\u001b[39msignature\u001b[39m.\u001b[39mname),\n\u001b[0;32m    506\u001b[0m         num_outputs\u001b[39m=\u001b[39m\u001b[39mself\u001b[39m\u001b[39m.\u001b[39m_num_outputs,\n\u001b[1;32m   (...)\u001b[0m\n\u001b[0;32m    509\u001b[0m         ctx\u001b[39m=\u001b[39mctx,\n\u001b[0;32m    510\u001b[0m         cancellation_manager\u001b[39m=\u001b[39mcancellation_manager)\n",
      "File \u001b[1;32md:\\Programming\\Pythons\\lib\\site-packages\\tensorflow\\python\\eager\\execute.py:54\u001b[0m, in \u001b[0;36mquick_execute\u001b[1;34m(op_name, num_outputs, inputs, attrs, ctx, name)\u001b[0m\n\u001b[0;32m     52\u001b[0m \u001b[39mtry\u001b[39;00m:\n\u001b[0;32m     53\u001b[0m   ctx\u001b[39m.\u001b[39mensure_initialized()\n\u001b[1;32m---> 54\u001b[0m   tensors \u001b[39m=\u001b[39m pywrap_tfe\u001b[39m.\u001b[39;49mTFE_Py_Execute(ctx\u001b[39m.\u001b[39;49m_handle, device_name, op_name,\n\u001b[0;32m     55\u001b[0m                                       inputs, attrs, num_outputs)\n\u001b[0;32m     56\u001b[0m \u001b[39mexcept\u001b[39;00m core\u001b[39m.\u001b[39m_NotOkStatusException \u001b[39mas\u001b[39;00m e:\n\u001b[0;32m     57\u001b[0m   \u001b[39mif\u001b[39;00m name \u001b[39mis\u001b[39;00m \u001b[39mnot\u001b[39;00m \u001b[39mNone\u001b[39;00m:\n",
      "\u001b[1;31mKeyboardInterrupt\u001b[0m: "
     ]
    }
   ],
   "source": [
    "history_rsnet = model_eff.fit(\n",
    "    flow_train,\n",
    "    validation_data=flow_val,\n",
    "    epochs=50\n",
    ")"
   ]
  },
  {
   "cell_type": "code",
   "execution_count": null,
   "metadata": {},
   "outputs": [],
   "source": [
    "_, resnet_accuracy = model_eff.evaluate(flow_test)"
   ]
  }
 ],
 "metadata": {
  "kernelspec": {
   "display_name": "Python 3.10.6 64-bit",
   "language": "python",
   "name": "python3"
  },
  "language_info": {
   "codemirror_mode": {
    "name": "ipython",
    "version": 3
   },
   "file_extension": ".py",
   "mimetype": "text/x-python",
   "name": "python",
   "nbconvert_exporter": "python",
   "pygments_lexer": "ipython3",
   "version": "3.10.6"
  },
  "orig_nbformat": 4,
  "vscode": {
   "interpreter": {
    "hash": "f71b3aa69000d5c78d1421c4be6cf6621e82827a1b46894d8daac515bba9a137"
   }
  }
 },
 "nbformat": 4,
 "nbformat_minor": 2
}
