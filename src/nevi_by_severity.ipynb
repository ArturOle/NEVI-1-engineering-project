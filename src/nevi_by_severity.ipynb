{
 "cells": [
  {
   "cell_type": "markdown",
   "metadata": {},
   "source": [
    "# NEVI\n",
    "\n",
    "The NEVI project aims to prove usefullness of CNN for skin cancer recognition using image processing and deep convolutional neural networks with transfer learning."
   ]
  },
  {
   "cell_type": "markdown",
   "metadata": {},
   "source": [
    "By Severity"
   ]
  },
  {
   "cell_type": "code",
   "execution_count": null,
   "metadata": {},
   "outputs": [],
   "source": [
    "from keras.preprocessing.image import ImageDataGenerator\n",
    "from keras.applications.efficientnet_v2 import EfficientNetV2S, preprocess_input\n",
    "from keras.layers import Dense, Dropout\n",
    "from keras.models import Sequential\n",
    "from keras.layers import ThresholdedReLU\n",
    "from keras.models import load_model\n",
    "from sklearn.model_selection import train_test_split\n",
    "\n",
    "import pandas as pd\n",
    "import numpy as np\n",
    "import matplotlib.pyplot as plt\n",
    "import glob\n",
    "import PIL\n"
   ]
  },
  {
   "cell_type": "code",
   "execution_count": null,
   "metadata": {},
   "outputs": [],
   "source": [
    "SEVERITY_DATA_FOLDER_PATH = \"grouped_images_by_severity\"\n",
    "BENIGN_DATA_FOLDER_PATH = \"grouped_images_by_severity\\\\benign\\\\*\"\n",
    "MALIGNANT_DATA_FOLDER_PATH = \"grouped_images_by_severity\\\\malignant\\\\*\"\n",
    "TARGET_SIZE = (256, 256)\n",
    "INPUT_SHAPE = (256, 256, 3)\n",
    "BATCH_SIZE = 20"
   ]
  },
  {
   "cell_type": "code",
   "execution_count": null,
   "metadata": {},
   "outputs": [],
   "source": [
    "imgs_benign = glob.glob(BENIGN_DATA_FOLDER_PATH)\n",
    "imgs_malignant = glob.glob(MALIGNANT_DATA_FOLDER_PATH)\n",
    "\n",
    "df_benign = pd.DataFrame({'filename': imgs_benign})\n",
    "df_benign['class'] = 'benign'\n",
    "df_malignant = pd.DataFrame({'filename': imgs_malignant})\n",
    "df_malignant['class'] = 'melignant'\n",
    "\n",
    "df = pd.concat([df_benign, df_malignant])\n",
    "\n",
    "df_train, df_temp = train_test_split(df, stratify=df['class'], test_size=.1)\n",
    "df_val, df_test = train_test_split(df_temp, stratify=df_temp['class'], test_size=.5)\n"
   ]
  },
  {
   "cell_type": "code",
   "execution_count": null,
   "metadata": {},
   "outputs": [],
   "source": [
    "data_generator_vis = ImageDataGenerator()\n",
    "flow_vis = data_generator_vis.flow_from_directory(\n",
    "    SEVERITY_DATA_FOLDER_PATH,\n",
    "    shuffle=True\n",
    ")"
   ]
  },
  {
   "cell_type": "code",
   "execution_count": null,
   "metadata": {},
   "outputs": [],
   "source": [
    "data_generator_train = ImageDataGenerator(\n",
    "    preprocessing_function=preprocess_input,\n",
    "    horizontal_flip=True,\n",
    "    vertical_flip=True,\n",
    "    rotation_range=90,\n",
    "    shear_range=.1,\n",
    "    brightness_range=[0.6, 1.0]\n",
    ")\n",
    "\n",
    "data_generator_val = ImageDataGenerator(\n",
    "    preprocessing_function=preprocess_input\n",
    ")\n",
    "\n",
    "data_generator_test = ImageDataGenerator(\n",
    "    preprocessing_function=preprocess_input\n",
    ")"
   ]
  },
  {
   "cell_type": "code",
   "execution_count": null,
   "metadata": {},
   "outputs": [],
   "source": [
    "flow_train = data_generator_train.flow_from_dataframe(\n",
    "    df_train,\n",
    "    target_size=TARGET_SIZE,\n",
    "    batch_size=BATCH_SIZE,\n",
    "    shuffle=True\n",
    ")\n",
    "\n",
    "flow_val = data_generator_val.flow_from_dataframe(\n",
    "    df_val,\n",
    "    target_size=TARGET_SIZE,\n",
    "    batch_size=BATCH_SIZE,\n",
    "    shuffle=True\n",
    "    \n",
    ")\n",
    "\n",
    "flow_test = data_generator_test.flow_from_dataframe(\n",
    "    df_test,\n",
    "    target_size=TARGET_SIZE,\n",
    "    batch_size=BATCH_SIZE,\n",
    "    shuffle=True\n",
    ")"
   ]
  },
  {
   "cell_type": "code",
   "execution_count": null,
   "metadata": {},
   "outputs": [],
   "source": [
    "EfficientNet = EfficientNetV2S(\n",
    "    include_top=False,\n",
    "    weights='imagenet',\n",
    "    input_shape=INPUT_SHAPE,\n",
    "    pooling='max'\n",
    ")"
   ]
  },
  {
   "cell_type": "code",
   "execution_count": null,
   "metadata": {},
   "outputs": [],
   "source": [
    "def get_model(base_model, activation=\"softmax\", optimizer: str=\"adam\", loss_function: str=\"CategoricalCrossentropy\"):\n",
    "    model = Sequential([\n",
    "        base_model,\n",
    "        Dropout(.2),\n",
    "        Dense(2, activation=activation)\n",
    "    ])\n",
    "    \n",
    "    for layer in model.layers[:-1]:\n",
    "        layer.trainable=True\n",
    "        \n",
    "    model.compile(\n",
    "        optimizer,\n",
    "        loss_function,\n",
    "        metrics=[\n",
    "            \"accuracy\"\n",
    "        ]\n",
    "    )\n",
    "    \n",
    "    return model"
   ]
  },
  {
   "cell_type": "code",
   "execution_count": null,
   "metadata": {},
   "outputs": [],
   "source": [
    "model_eff = get_model(EfficientNet)"
   ]
  },
  {
   "cell_type": "code",
   "execution_count": null,
   "metadata": {},
   "outputs": [],
   "source": [
    "history_eff = model_eff.fit(\n",
    "    flow_train,\n",
    "    validation_data=flow_val,\n",
    "    epochs=100\n",
    ")"
   ]
  },
  {
   "cell_type": "code",
   "execution_count": null,
   "metadata": {},
   "outputs": [],
   "source": [
    "_, eff_accuracy = model_eff.evaluate(flow_test)"
   ]
  },
  {
   "cell_type": "code",
   "execution_count": null,
   "metadata": {},
   "outputs": [],
   "source": [
    "import matplotlib.pyplot as plt\n",
    "\n",
    "plt.figure(figsize=(8, 5))\n",
    "plt.plot(history_eff.history[\"accuracy\"])\n",
    "plt.plot(history_eff.history[\"val_accuracy\"])\n",
    "plt.ylabel('accuracy')\n",
    "plt.xlabel('epoch')\n",
    "plt.show()\n",
    "\n",
    "plt.figure(figsize=(8, 5))\n",
    "plt.plot(history_eff.history[\"loss\"])\n",
    "plt.plot(history_eff.history[\"val_loss\"])\n",
    "plt.ylabel('loss')\n",
    "plt.xlabel('epoch')\n",
    "plt.show()\n"
   ]
  }
 ],
 "metadata": {
  "kernelspec": {
   "display_name": "Python 3.10.6 64-bit",
   "language": "python",
   "name": "python3"
  },
  "language_info": {
   "name": "python",
   "version": "3.10.6"
  },
  "orig_nbformat": 4,
  "vscode": {
   "interpreter": {
    "hash": "f71b3aa69000d5c78d1421c4be6cf6621e82827a1b46894d8daac515bba9a137"
   }
  }
 },
 "nbformat": 4,
 "nbformat_minor": 2
}
