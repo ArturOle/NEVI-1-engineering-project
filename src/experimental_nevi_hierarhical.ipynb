{
 "cells": [
  {
   "cell_type": "markdown",
   "metadata": {},
   "source": [
    "# NEVI\n",
    "\n",
    "The NEVI project aims to prove usefullness of CNN for skin cancer recognition using image processing and deep convolutional neural networks with transfer learning."
   ]
  },
  {
   "cell_type": "code",
   "execution_count": 1,
   "metadata": {},
   "outputs": [],
   "source": [
    "from keras.preprocessing.image import ImageDataGenerator\n",
    "from keras.applications.efficientnet_v2 import EfficientNetV2S, preprocess_input\n",
    "from keras.layers import Dense, Dropout\n",
    "from keras.models import Sequential\n",
    "from keras.models import load_model\n",
    "from sklearn.model_selection import train_test_split\n",
    "\n",
    "import pandas as pd\n",
    "import numpy as np\n",
    "import matplotlib.pyplot as plt\n",
    "import glob\n",
    "import PIL\n"
   ]
  },
  {
   "cell_type": "markdown",
   "metadata": {},
   "source": [
    "By Type"
   ]
  },
  {
   "cell_type": "code",
   "execution_count": 2,
   "metadata": {},
   "outputs": [],
   "source": [
    "TYPE_DATA_FOLDER_PATH  = \"..\\\\data\\\\grouped_images_by_type\"\n",
    "AKIEC_DATA_FOLDER_PATH = \"..\\\\data\\\\grouped_images_by_type\\\\akiec\\\\*\"\n",
    "BCC_DATA_FOLDER_PATH   = \"..\\\\data\\\\grouped_images_by_type\\\\bcc\\\\*\"\n",
    "BKL_DATA_FOLDER_PATH   = \"..\\\\data\\\\grouped_images_by_type\\\\bkl\\\\*\"\n",
    "DF_DATA_FOLDER_PATH    = \"..\\\\data\\\\grouped_images_by_type\\\\df\\\\*\"\n",
    "MEL_DATA_FOLDER_PATH   = \"..\\\\data\\\\grouped_images_by_type\\\\mel\\\\*\"\n",
    "NV_DATA_FOLDER_PATH    = \"..\\\\data\\\\grouped_images_by_type\\\\nv\\\\*\"\n",
    "VASC_DATA_FOLDER_PATH  = \"..\\\\data\\\\grouped_images_by_type\\\\vasc\\\\*\"\n",
    "AKIEC_DATA_FOLDER_PATH_TEST = \"..\\\\data\\\\secret_test_folder\\\\akiec\\\\*\"\n",
    "BCC_DATA_FOLDER_PATH_TEST   = \"..\\\\data\\\\secret_test_folder\\\\bcc\\\\*\"\n",
    "BKL_DATA_FOLDER_PATH_TEST   = \"..\\\\data\\\\secret_test_folder\\\\bkl\\\\*\"\n",
    "DF_DATA_FOLDER_PATH_TEST    = \"..\\\\data\\\\secret_test_folder\\\\df\\\\*\"\n",
    "MEL_DATA_FOLDER_PATH_TEST   = \"..\\\\data\\\\secret_test_folder\\\\mel\\\\*\"\n",
    "NV_DATA_FOLDER_PATH_TEST    = \"..\\\\data\\\\secret_test_folder\\\\nv\\\\*\"\n",
    "VASC_DATA_FOLDER_PATH_TEST  = \"..\\\\data\\\\secret_test_folder\\\\vasc\\\\*\"\n",
    "TARGET_SIZE = (256, 256)\n",
    "INPUT_SHAPE = (256, 256, 3)\n",
    "BATCH_SIZE = 20"
   ]
  },
  {
   "cell_type": "code",
   "execution_count": 3,
   "metadata": {},
   "outputs": [],
   "source": [
    "imgs_AKIEC  = glob.glob(AKIEC_DATA_FOLDER_PATH)\n",
    "imgs_BCC    = glob.glob(BCC_DATA_FOLDER_PATH)\n",
    "imgs_BKL    = glob.glob(BKL_DATA_FOLDER_PATH)\n",
    "imgs_DF     = glob.glob(DF_DATA_FOLDER_PATH)\n",
    "imgs_MEL    = glob.glob(MEL_DATA_FOLDER_PATH)\n",
    "imgs_NV     = glob.glob(NV_DATA_FOLDER_PATH)\n",
    "imgs_VASC   = glob.glob(VASC_DATA_FOLDER_PATH)\n",
    "\n",
    "test_imgs_AKIEC  = glob.glob(AKIEC_DATA_FOLDER_PATH_TEST)\n",
    "test_imgs_BCC    = glob.glob(BCC_DATA_FOLDER_PATH_TEST)\n",
    "test_imgs_BKL    = glob.glob(BKL_DATA_FOLDER_PATH_TEST)\n",
    "test_imgs_DF     = glob.glob(DF_DATA_FOLDER_PATH_TEST)\n",
    "test_imgs_MEL    = glob.glob(MEL_DATA_FOLDER_PATH_TEST)\n",
    "test_imgs_NV     = glob.glob(NV_DATA_FOLDER_PATH_TEST)\n",
    "test_imgs_VASC   = glob.glob(VASC_DATA_FOLDER_PATH_TEST)\n",
    "\n",
    "df_AKIEC = pd.DataFrame({'filename': imgs_AKIEC})\n",
    "df_AKIEC['class'] = 'AKIEC'\n",
    "df_BCC = pd.DataFrame({'filename': imgs_BCC})\n",
    "df_BCC['class'] = 'BCC'\n",
    "df_BKL = pd.DataFrame({'filename': imgs_BKL})\n",
    "df_BKL['class'] = 'BKL'\n",
    "df_DF = pd.DataFrame({'filename': imgs_DF})\n",
    "df_DF['class'] = 'DF'\n",
    "df_MEL = pd.DataFrame({'filename': imgs_MEL})\n",
    "df_MEL['class'] = 'MEL'\n",
    "df_NV = pd.DataFrame({'filename': imgs_NV})\n",
    "df_NV['class'] = 'NV'\n",
    "df_VASC = pd.DataFrame({'filename': imgs_VASC})\n",
    "df_VASC['class'] = 'VASC'\n",
    "\n",
    "df_test_AKIEC = pd.DataFrame({'filename': test_imgs_AKIEC})\n",
    "df_test_AKIEC['class'] = 'AKIEC'\n",
    "df_test_BCC = pd.DataFrame({'filename': test_imgs_BCC})\n",
    "df_test_BCC['class'] = 'BCC'\n",
    "df_test_BKL = pd.DataFrame({'filename': test_imgs_BKL})\n",
    "df_test_BKL['class'] = 'BKL'\n",
    "df_test_DF = pd.DataFrame({'filename': test_imgs_DF})\n",
    "df_test_DF['class'] = 'DF'\n",
    "df_test_MEL = pd.DataFrame({'filename': test_imgs_MEL})\n",
    "df_test_MEL['class'] = 'MEL'\n",
    "df_test_NV = pd.DataFrame({'filename': test_imgs_NV})\n",
    "df_test_NV['class'] = 'NV'\n",
    "df_test_VASC = pd.DataFrame({'filename': test_imgs_VASC})\n",
    "df_test_VASC['class'] = 'VASC'\n",
    "\n",
    "AKIEC = 'AKIEC'\n",
    "BCC = 'BCC'\n",
    "BKL = 'BKL'\n",
    "DF = 'DF'\n",
    "MEL = 'MEL'\n",
    "NV = 'NV'\n",
    "VASC = 'VASC'\n",
    "BCC_DF = \"BCC_DF\"\n",
    "MEL_NV = \"MEL_NV\"\n",
    "BKL_AKIEC = \"BKL_AKIEC\"\n",
    "\n",
    "\n",
    "# Experiment\n",
    "\n",
    "df_bcc_df = pd.concat([df_BCC, df_DF])\n",
    "df_bcc_df[\"class\"] = \"BCC_DF\"\n",
    "df_mel_nv = pd.concat([df_MEL, df_NV])\n",
    "df_mel_nv[\"class\"] = \"MEL_NV\"\n",
    "df_bkl_akiec = pd.concat([df_BKL, df_AKIEC])\n",
    "df_bkl_akiec[\"class\"] = \"BKL_AKIEC\"\n",
    "\n",
    "df_test_bcc_df = pd.concat([df_test_BCC, df_test_DF])\n",
    "df_test_bcc_df[\"class\"] = \"BCC_DF\"\n",
    "df_test_mel_nv = pd.concat([df_test_MEL, df_test_NV])\n",
    "df_test_mel_nv[\"class\"] = \"MEL_NV\"\n",
    "df_test_bkl_akiec = pd.concat([df_test_BKL, df_test_AKIEC])\n",
    "df_test_bkl_akiec[\"class\"] = \"BKL_AKIEC\"\n",
    "\n",
    "df_root = pd.concat([df_bcc_df, df_mel_nv, df_bkl_akiec, df_VASC])\n",
    "df_test_root = pd.concat([df_test_bcc_df, df_test_mel_nv, df_test_bkl_akiec, df_test_VASC])\n",
    "df, df_val = train_test_split(df_root, stratify=df_root[\"class\"], test_size=.08)\n"
   ]
  },
  {
   "cell_type": "code",
   "execution_count": 4,
   "metadata": {},
   "outputs": [
    {
     "name": "stdout",
     "output_type": "stream",
     "text": [
      "Found 19329 images belonging to 7 classes.\n"
     ]
    }
   ],
   "source": [
    "\n",
    "\n",
    "data_generator_vis = ImageDataGenerator()\n",
    "flow_vis = data_generator_vis.flow_from_directory(\n",
    "    TYPE_DATA_FOLDER_PATH,\n",
    "    shuffle=False\n",
    ")"
   ]
  },
  {
   "cell_type": "code",
   "execution_count": 5,
   "metadata": {},
   "outputs": [],
   "source": [
    "data_generator_train = ImageDataGenerator(\n",
    "    preprocessing_function=preprocess_input,\n",
    "    horizontal_flip=True,\n",
    "    vertical_flip=True,\n",
    "    rotation_range=90,\n",
    "    shear_range=.1,\n",
    "    brightness_range=[0.6,1.0]\n",
    ")\n",
    "\n",
    "data_generator_val = ImageDataGenerator(\n",
    "    preprocessing_function=preprocess_input\n",
    ")\n",
    "\n",
    "data_generator_test = ImageDataGenerator(\n",
    "    preprocessing_function=preprocess_input\n",
    ")"
   ]
  },
  {
   "cell_type": "code",
   "execution_count": 6,
   "metadata": {},
   "outputs": [
    {
     "name": "stdout",
     "output_type": "stream",
     "text": [
      "Found 17782 validated image filenames belonging to 4 classes.\n",
      "Found 1547 validated image filenames belonging to 4 classes.\n",
      "Found 391 validated image filenames belonging to 4 classes.\n"
     ]
    }
   ],
   "source": [
    "flow_train = data_generator_train.flow_from_dataframe(\n",
    "    df,\n",
    "    target_size=TARGET_SIZE,\n",
    "    batch_size=BATCH_SIZE,\n",
    "    shuffle=True\n",
    ")\n",
    "\n",
    "flow_val = data_generator_val.flow_from_dataframe(\n",
    "    df_val,\n",
    "    target_size=TARGET_SIZE,\n",
    "    batch_size=BATCH_SIZE,\n",
    "    shuffle=True\n",
    "    \n",
    ")\n",
    "\n",
    "flow_test = data_generator_test.flow_from_dataframe(\n",
    "    df_test_root,\n",
    "    target_size=TARGET_SIZE,\n",
    "    batch_size=BATCH_SIZE,\n",
    "    shuffle=False\n",
    ")"
   ]
  },
  {
   "cell_type": "code",
   "execution_count": 7,
   "metadata": {},
   "outputs": [],
   "source": [
    "EfficientNet = EfficientNetV2S(\n",
    "    include_top=False,\n",
    "    weights='imagenet',\n",
    "    input_shape=INPUT_SHAPE,\n",
    "    pooling='max'\n",
    ")"
   ]
  },
  {
   "cell_type": "code",
   "execution_count": 12,
   "metadata": {},
   "outputs": [],
   "source": [
    "def get_model(base_model, activation=\"softmax\", optimizer: str=\"adam\", loss_function: str=\"CategoricalCrossentropy\"):\n",
    "    model = Sequential([\n",
    "        base_model,\n",
    "        Dropout(.2),\n",
    "        Dense(4, activation=activation)\n",
    "    ])\n",
    "    \n",
    "    for layer in model.layers[:-1]:\n",
    "        layer.trainable=True\n",
    "        \n",
    "    model.compile(\n",
    "        optimizer,\n",
    "        loss_function,\n",
    "        metrics=[\n",
    "            \"accuracy\"\n",
    "        ]\n",
    "    )\n",
    "    \n",
    "    return model"
   ]
  },
  {
   "cell_type": "code",
   "execution_count": 13,
   "metadata": {},
   "outputs": [],
   "source": [
    "model_eff_layer1 = get_model(EfficientNet)"
   ]
  },
  {
   "cell_type": "code",
   "execution_count": 8,
   "metadata": {},
   "outputs": [],
   "source": [
    "model_eff_layer1 = load_model(r\"D:\\Projects\\thesis\\src\\model\\cascade\\layer1\\experimental_model_layer1.h5\")"
   ]
  },
  {
   "cell_type": "code",
   "execution_count": 21,
   "metadata": {},
   "outputs": [
    {
     "name": "stdout",
     "output_type": "stream",
     "text": [
      "890/890 [==============================] - 248s 278ms/step - loss: 0.0490 - accuracy: 0.9812 - val_loss: 0.1240 - val_accuracy: 0.9677\n"
     ]
    }
   ],
   "source": [
    "history_eff2 = model_eff_layer1.fit(\n",
    "    flow_train,\n",
    "    validation_data=flow_val,\n",
    "    epochs=1\n",
    ")"
   ]
  },
  {
   "cell_type": "code",
   "execution_count": 23,
   "metadata": {},
   "outputs": [],
   "source": [
    "from keras import Model\n",
    "Model.save(\n",
    "    model_eff_layer1,\n",
    "    filepath=\".\\\\model\\\\cascade\\\\layer1\\\\experimental_model_layer1.h5\",\n",
    "    overwrite=True,\n",
    "    include_optimizer=True,\n",
    "    save_format=None,\n",
    "    signatures=None,\n",
    "    options=None,\n",
    "    save_traces=True,\n",
    ")"
   ]
  },
  {
   "cell_type": "code",
   "execution_count": 9,
   "metadata": {},
   "outputs": [
    {
     "name": "stdout",
     "output_type": "stream",
     "text": [
      "20/20 [==============================] - 10s 122ms/step - loss: 0.1642 - accuracy: 0.9488\n"
     ]
    }
   ],
   "source": [
    "_, resnet_accuracy = model_eff_layer1.evaluate(flow_test)"
   ]
  },
  {
   "cell_type": "code",
   "execution_count": null,
   "metadata": {},
   "outputs": [],
   "source": [
    "import matplotlib.pyplot as plt\n",
    "\n",
    "plt.figure(figsize=(8, 5))\n",
    "plt.plot(history_eff2.history[\"accuracy\"])\n",
    "plt.plot(history_eff2.history[\"val_accuracy\"])\n",
    "plt.ylabel('accuracy')\n",
    "plt.xlabel('epoch')\n",
    "plt.show()\n",
    "\n",
    "plt.figure(figsize=(8, 5))\n",
    "plt.plot(history_eff2.history[\"loss\"])\n",
    "plt.plot(history_eff2.history[\"val_loss\"])\n",
    "plt.ylabel('loss')\n",
    "plt.xlabel('epoch')\n",
    "plt.show()\n"
   ]
  },
  {
   "cell_type": "code",
   "execution_count": 22,
   "metadata": {},
   "outputs": [
    {
     "name": "stdout",
     "output_type": "stream",
     "text": [
      "[0, 0, 0, 0, 0, 0, 0, 0, 0, 0, 0, 0, 0, 0, 0, 0, 0, 0, 0, 0, 0, 0, 0, 0, 0, 0, 0, 0, 0, 0, 0, 0, 0, 0, 0, 0, 0, 0, 0, 0, 0, 0, 0, 0, 0, 0, 0, 0, 0, 0, 0, 0, 0, 0, 0, 0, 0, 0, 0, 0, 0, 0, 0, 2, 2, 2, 2, 2, 2, 2, 2, 2, 2, 2, 2, 2, 2, 2, 2, 2, 2, 2, 2, 2, 2, 2, 2, 2, 2, 2, 2, 2, 2, 2, 2, 2, 2, 2, 2, 2, 2, 2, 2, 2, 2, 2, 2, 2, 2, 2, 2, 2, 2, 2, 2, 2, 2, 2, 2, 2, 2, 2, 2, 2, 2, 2, 2, 2, 2, 2, 2, 2, 2, 2, 2, 2, 2, 2, 2, 2, 2, 2, 2, 2, 2, 2, 2, 2, 2, 2, 2, 2, 2, 2, 2, 2, 2, 2, 2, 2, 2, 2, 2, 2, 2, 2, 2, 2, 2, 2, 2, 2, 2, 2, 2, 2, 2, 2, 2, 2, 2, 2, 2, 2, 2, 2, 2, 2, 2, 2, 2, 2, 2, 2, 2, 2, 2, 2, 2, 2, 2, 2, 2, 2, 2, 2, 2, 2, 2, 2, 2, 2, 2, 2, 2, 2, 2, 2, 2, 2, 2, 2, 2, 2, 2, 2, 2, 2, 2, 2, 2, 2, 2, 2, 2, 2, 2, 2, 2, 2, 2, 2, 2, 2, 2, 2, 2, 2, 2, 2, 2, 2, 2, 2, 2, 2, 2, 2, 2, 2, 2, 2, 2, 2, 2, 2, 2, 2, 2, 2, 2, 2, 2, 2, 2, 2, 2, 2, 2, 2, 2, 2, 2, 2, 2, 2, 1, 1, 1, 1, 1, 1, 1, 1, 1, 1, 1, 1, 1, 1, 1, 1, 1, 1, 1, 1, 1, 1, 1, 1, 1, 1, 1, 1, 1, 1, 1, 1, 1, 1, 1, 1, 1, 1, 1, 1, 1, 1, 1, 1, 1, 1, 1, 1, 1, 1, 1, 1, 1, 1, 1, 1, 1, 1, 1, 1, 1, 1, 1, 1, 1, 1, 1, 1, 1, 1, 1, 1, 1, 1, 1, 1, 1, 1, 1, 1, 1, 1, 1, 1, 1, 1, 1, 1, 1, 3, 3, 3, 3, 3, 3, 3, 3, 3, 3, 3, 3, 3, 3, 3, 3]\n",
      "20/20 [==============================] - 1s 69ms/step\n",
      "              precision    recall  f1-score   support\n",
      "\n",
      "      BCC_DF       1.00      0.86      0.92        63\n",
      "   BKL_AKIEC       0.93      0.91      0.92        89\n",
      "      MEL_NV       0.94      0.99      0.96       223\n",
      "        VASC       1.00      1.00      1.00        16\n",
      "\n",
      "    accuracy                           0.95       391\n",
      "   macro avg       0.97      0.94      0.95       391\n",
      "weighted avg       0.95      0.95      0.95       391\n",
      "\n"
     ]
    },
    {
     "data": {
      "image/png": "[encoded data removed]",
      "text/plain": [
       "<Figure size 640x480 with 2 Axes>"
      ]
     },
     "metadata": {},
     "output_type": "display_data"
    },
    {
     "name": "stdout",
     "output_type": "stream",
     "text": [
      "[0.83465445 0.10830554 0.05514423 0.00189569]\n"
     ]
    }
   ],
   "source": [
    "from sklearn.metrics import confusion_matrix, ConfusionMatrixDisplay, classification_report\n",
    "ava_labels = [\n",
    "    BCC_DF,\n",
    "    BKL_AKIEC,\n",
    "    MEL_NV,\n",
    "    VASC\n",
    "]\n",
    "true_labels = flow_test.classes\n",
    "predictions = model_eff_layer1.predict(flow_test)\n",
    "y_true = true_labels\n",
    "y_pred = np.array([np.argmax(x) for x in predictions])\n",
    "cm = confusion_matrix(y_true, y_pred)\n",
    "cr = classification_report(y_true, y_pred, target_names=ava_labels)\n",
    "disp = ConfusionMatrixDisplay(cm, display_labels=ava_labels)\n",
    "disp.plot(cmap=plt.cm.Reds)\n",
    "plt.show()\n",
    "print(predictions[6])"
   ]
  },
  {
   "cell_type": "code",
   "execution_count": 57,
   "metadata": {},
   "outputs": [],
   "source": [
    "from skimage import transform\n",
    "from PIL import Image\n",
    "import cv2\n",
    "\n",
    "class Predictor:\n",
    "    def __init__(self, model_path: str):\n",
    "        self.model = load_model(model_path)\n",
    "\n",
    "    def predict(self, image):\n",
    "        np_image = np.array(image).astype(float)\n",
    "        np_image = transform.resize(np_image, (256, 256, 3))\n",
    "        np_image = np.expand_dims(np_image, axis=0)\n",
    "        np_image = preprocess_input(np_image)\n",
    "        result = self.model.predict(np_image)[0]\n",
    "        print(result)\n",
    "        return self.map_results(result)\n",
    "\n",
    "    def map_results(self, results: list):\n",
    "        map_results = {\n",
    "            0: \"Actinic keratoses and intraepithelial carcinoma / Bowen's diesease\",\n",
    "            1: \"You die bro\",\n",
    "            2: \"Benign keratosis-like lesions\",\n",
    "            3: \"Dermatofibroma\",\n",
    "            4: \"Melanoma\",\n",
    "            5: \"Melanocytic nevi\",\n",
    "            6: \"Vascular lesions\"\n",
    "        }\n",
    "        return map_results[np.argmax(results)]\n",
    "\n",
    "\n",
    "if __name__ == \"__main__\":\n",
    "    # with open(r\"D:\\Projects\\thesis\\grouped_images_by_severity\\benign\\ISIC_0024306.jpg\", \"r\") as f:\n",
    "    img = Image.open(r\"D:\\Projects\\thesis\\grouped_images_by_type\\nv\\ISIC_0034098.jpg\")\n",
    "    pred = Predictor(r\"D:\\Projects\\thesis\\model\\experimental_model_S8\")\n",
    "    pred = pred.predict(img)\n",
    "    print(pred)\n"
   ]
  }
 ],
 "metadata": {
  "kernelspec": {
   "display_name": "Python 3.10.6 64-bit",
   "language": "python",
   "name": "python3"
  },
  "language_info": {
   "codemirror_mode": {
    "name": "ipython",
    "version": 3
   },
   "file_extension": ".py",
   "mimetype": "text/x-python",
   "name": "python",
   "nbconvert_exporter": "python",
   "pygments_lexer": "ipython3",
   "version": "3.10.6"
  },
  "orig_nbformat": 4,
  "vscode": {
   "interpreter": {
    "hash": "f71b3aa69000d5c78d1421c4be6cf6621e82827a1b46894d8daac515bba9a137"
   }
  }
 },
 "nbformat": 4,
 "nbformat_minor": 2
}
